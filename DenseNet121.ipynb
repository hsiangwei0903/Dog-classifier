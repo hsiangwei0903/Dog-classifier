{
  "nbformat": 4,
  "nbformat_minor": 0,
  "metadata": {
    "colab": {
      "name": "DenseNet121",
      "provenance": [],
      "collapsed_sections": [],
      "authorship_tag": "ABX9TyNBI5wjDSO9vHznGJOghWNs",
      "include_colab_link": true
    },
    "kernelspec": {
      "name": "python3",
      "display_name": "Python 3"
    },
    "language_info": {
      "name": "python"
    }
  },
  "cells": [
    {
      "cell_type": "markdown",
      "metadata": {
        "id": "view-in-github",
        "colab_type": "text"
      },
      "source": [
        "<a href=\"https://colab.research.google.com/github/hsiangwei0903/Fine-Grained-Object-Recognition/blob/dev%2Fravi%2Ftent/DenseNet121.ipynb\" target=\"_parent\"><img src=\"https://colab.research.google.com/assets/colab-badge.svg\" alt=\"Open In Colab\"/></a>"
      ]
    },
    {
      "cell_type": "markdown",
      "source": [
        "# **Ravi Sangani**"
      ],
      "metadata": {
        "id": "gbb4FX46vmyt"
      }
    },
    {
      "cell_type": "markdown",
      "source": [
        "DenseNet is a type of convolutional neural network that utilises dense connections between layers, through Dense Blocks, where we connect all layers (with matching feature-map sizes) directly with each other. To preserve the feed-forward nature, each layer obtains additional inputs from all preceding layers and passes on its own feature-maps to all subsequent layers.\n",
        "\n",
        "The DenseNet Blur variant in this collection by Ross Wightman employs Blur Pooling"
      ],
      "metadata": {
        "id": "AUxkBhu1NAkT"
      }
    },
    {
      "cell_type": "code",
      "source": [
        "from google.colab import drive\n",
        "drive.mount('/content/drive')\n",
        "!pip install timm\n"
      ],
      "metadata": {
        "colab": {
          "base_uri": "https://localhost:8080/"
        },
        "id": "Vo6w-pwf5HUK",
        "outputId": "f062767e-1cc9-4329-92b0-5805ebd0fdf9"
      },
      "execution_count": null,
      "outputs": [
        {
          "output_type": "stream",
          "name": "stdout",
          "text": [
            "Mounted at /content/drive\n",
            "Collecting timm\n",
            "  Downloading timm-0.5.4-py3-none-any.whl (431 kB)\n",
            "\u001b[K     |████████████████████████████████| 431 kB 13.8 MB/s \n",
            "\u001b[?25hRequirement already satisfied: torchvision in /usr/local/lib/python3.7/dist-packages (from timm) (0.11.1+cu111)\n",
            "Requirement already satisfied: torch>=1.4 in /usr/local/lib/python3.7/dist-packages (from timm) (1.10.0+cu111)\n",
            "Requirement already satisfied: typing-extensions in /usr/local/lib/python3.7/dist-packages (from torch>=1.4->timm) (3.10.0.2)\n",
            "Requirement already satisfied: numpy in /usr/local/lib/python3.7/dist-packages (from torchvision->timm) (1.21.5)\n",
            "Requirement already satisfied: pillow!=8.3.0,>=5.3.0 in /usr/local/lib/python3.7/dist-packages (from torchvision->timm) (7.1.2)\n",
            "Installing collected packages: timm\n",
            "Successfully installed timm-0.5.4\n"
          ]
        }
      ]
    },
    {
      "cell_type": "code",
      "source": [
        "cd /content/drive/My Drive/UW/2021-22_Senior/Capstone/ENGINE: Wyze/Images/test_yt/n02085620-Chihuahua"
      ],
      "metadata": {
        "colab": {
          "base_uri": "https://localhost:8080/"
        },
        "id": "qLmyRyMk5X4F",
        "outputId": "093612ba-cbf4-484b-851e-9c1a65d1c9f9"
      },
      "execution_count": null,
      "outputs": [
        {
          "output_type": "stream",
          "name": "stdout",
          "text": [
            "/content/drive/.shortcut-targets-by-id/1beXLuTyfFnOo3t19p65wHXF-qaxghvjI/ENGINE: Wyze/Images/test/n02085620-Chihuahua\n"
          ]
        }
      ]
    },
    {
      "cell_type": "markdown",
      "source": [
        "## **running inference on single image**"
      ],
      "metadata": {
        "id": "7ny6QQZSAu5M"
      }
    },
    {
      "cell_type": "code",
      "execution_count": null,
      "metadata": {
        "colab": {
          "base_uri": "https://localhost:8080/"
        },
        "id": "DppQPD_d0m7z",
        "outputId": "37460107-00ea-4729-b055-63164d679a91"
      },
      "outputs": [
        {
          "output_type": "stream",
          "name": "stderr",
          "text": [
            "Downloading: \"https://github.com/rwightman/pytorch-image-models/releases/download/v0.1-weights/densenet121_ra-50efcf5c.pth\" to /root/.cache/torch/hub/checkpoints/densenet121_ra-50efcf5c.pth\n"
          ]
        },
        {
          "output_type": "execute_result",
          "data": {
            "text/plain": [
              "DenseNet(\n",
              "  (features): Sequential(\n",
              "    (conv0): Conv2d(3, 64, kernel_size=(7, 7), stride=(2, 2), padding=(3, 3), bias=False)\n",
              "    (norm0): BatchNormAct2d(\n",
              "      64, eps=1e-05, momentum=0.1, affine=True, track_running_stats=True\n",
              "      (act): ReLU(inplace=True)\n",
              "    )\n",
              "    (pool0): MaxPool2d(kernel_size=3, stride=2, padding=1, dilation=1, ceil_mode=False)\n",
              "    (denseblock1): DenseBlock(\n",
              "      (denselayer1): DenseLayer(\n",
              "        (norm1): BatchNormAct2d(\n",
              "          64, eps=1e-05, momentum=0.1, affine=True, track_running_stats=True\n",
              "          (act): ReLU(inplace=True)\n",
              "        )\n",
              "        (conv1): Conv2d(64, 128, kernel_size=(1, 1), stride=(1, 1), bias=False)\n",
              "        (norm2): BatchNormAct2d(\n",
              "          128, eps=1e-05, momentum=0.1, affine=True, track_running_stats=True\n",
              "          (act): ReLU(inplace=True)\n",
              "        )\n",
              "        (conv2): Conv2d(128, 32, kernel_size=(3, 3), stride=(1, 1), padding=(1, 1), bias=False)\n",
              "      )\n",
              "      (denselayer2): DenseLayer(\n",
              "        (norm1): BatchNormAct2d(\n",
              "          96, eps=1e-05, momentum=0.1, affine=True, track_running_stats=True\n",
              "          (act): ReLU(inplace=True)\n",
              "        )\n",
              "        (conv1): Conv2d(96, 128, kernel_size=(1, 1), stride=(1, 1), bias=False)\n",
              "        (norm2): BatchNormAct2d(\n",
              "          128, eps=1e-05, momentum=0.1, affine=True, track_running_stats=True\n",
              "          (act): ReLU(inplace=True)\n",
              "        )\n",
              "        (conv2): Conv2d(128, 32, kernel_size=(3, 3), stride=(1, 1), padding=(1, 1), bias=False)\n",
              "      )\n",
              "      (denselayer3): DenseLayer(\n",
              "        (norm1): BatchNormAct2d(\n",
              "          128, eps=1e-05, momentum=0.1, affine=True, track_running_stats=True\n",
              "          (act): ReLU(inplace=True)\n",
              "        )\n",
              "        (conv1): Conv2d(128, 128, kernel_size=(1, 1), stride=(1, 1), bias=False)\n",
              "        (norm2): BatchNormAct2d(\n",
              "          128, eps=1e-05, momentum=0.1, affine=True, track_running_stats=True\n",
              "          (act): ReLU(inplace=True)\n",
              "        )\n",
              "        (conv2): Conv2d(128, 32, kernel_size=(3, 3), stride=(1, 1), padding=(1, 1), bias=False)\n",
              "      )\n",
              "      (denselayer4): DenseLayer(\n",
              "        (norm1): BatchNormAct2d(\n",
              "          160, eps=1e-05, momentum=0.1, affine=True, track_running_stats=True\n",
              "          (act): ReLU(inplace=True)\n",
              "        )\n",
              "        (conv1): Conv2d(160, 128, kernel_size=(1, 1), stride=(1, 1), bias=False)\n",
              "        (norm2): BatchNormAct2d(\n",
              "          128, eps=1e-05, momentum=0.1, affine=True, track_running_stats=True\n",
              "          (act): ReLU(inplace=True)\n",
              "        )\n",
              "        (conv2): Conv2d(128, 32, kernel_size=(3, 3), stride=(1, 1), padding=(1, 1), bias=False)\n",
              "      )\n",
              "      (denselayer5): DenseLayer(\n",
              "        (norm1): BatchNormAct2d(\n",
              "          192, eps=1e-05, momentum=0.1, affine=True, track_running_stats=True\n",
              "          (act): ReLU(inplace=True)\n",
              "        )\n",
              "        (conv1): Conv2d(192, 128, kernel_size=(1, 1), stride=(1, 1), bias=False)\n",
              "        (norm2): BatchNormAct2d(\n",
              "          128, eps=1e-05, momentum=0.1, affine=True, track_running_stats=True\n",
              "          (act): ReLU(inplace=True)\n",
              "        )\n",
              "        (conv2): Conv2d(128, 32, kernel_size=(3, 3), stride=(1, 1), padding=(1, 1), bias=False)\n",
              "      )\n",
              "      (denselayer6): DenseLayer(\n",
              "        (norm1): BatchNormAct2d(\n",
              "          224, eps=1e-05, momentum=0.1, affine=True, track_running_stats=True\n",
              "          (act): ReLU(inplace=True)\n",
              "        )\n",
              "        (conv1): Conv2d(224, 128, kernel_size=(1, 1), stride=(1, 1), bias=False)\n",
              "        (norm2): BatchNormAct2d(\n",
              "          128, eps=1e-05, momentum=0.1, affine=True, track_running_stats=True\n",
              "          (act): ReLU(inplace=True)\n",
              "        )\n",
              "        (conv2): Conv2d(128, 32, kernel_size=(3, 3), stride=(1, 1), padding=(1, 1), bias=False)\n",
              "      )\n",
              "    )\n",
              "    (transition1): DenseTransition(\n",
              "      (norm): BatchNormAct2d(\n",
              "        256, eps=1e-05, momentum=0.1, affine=True, track_running_stats=True\n",
              "        (act): ReLU(inplace=True)\n",
              "      )\n",
              "      (conv): Conv2d(256, 128, kernel_size=(1, 1), stride=(1, 1), bias=False)\n",
              "      (pool): AvgPool2d(kernel_size=2, stride=2, padding=0)\n",
              "    )\n",
              "    (denseblock2): DenseBlock(\n",
              "      (denselayer1): DenseLayer(\n",
              "        (norm1): BatchNormAct2d(\n",
              "          128, eps=1e-05, momentum=0.1, affine=True, track_running_stats=True\n",
              "          (act): ReLU(inplace=True)\n",
              "        )\n",
              "        (conv1): Conv2d(128, 128, kernel_size=(1, 1), stride=(1, 1), bias=False)\n",
              "        (norm2): BatchNormAct2d(\n",
              "          128, eps=1e-05, momentum=0.1, affine=True, track_running_stats=True\n",
              "          (act): ReLU(inplace=True)\n",
              "        )\n",
              "        (conv2): Conv2d(128, 32, kernel_size=(3, 3), stride=(1, 1), padding=(1, 1), bias=False)\n",
              "      )\n",
              "      (denselayer2): DenseLayer(\n",
              "        (norm1): BatchNormAct2d(\n",
              "          160, eps=1e-05, momentum=0.1, affine=True, track_running_stats=True\n",
              "          (act): ReLU(inplace=True)\n",
              "        )\n",
              "        (conv1): Conv2d(160, 128, kernel_size=(1, 1), stride=(1, 1), bias=False)\n",
              "        (norm2): BatchNormAct2d(\n",
              "          128, eps=1e-05, momentum=0.1, affine=True, track_running_stats=True\n",
              "          (act): ReLU(inplace=True)\n",
              "        )\n",
              "        (conv2): Conv2d(128, 32, kernel_size=(3, 3), stride=(1, 1), padding=(1, 1), bias=False)\n",
              "      )\n",
              "      (denselayer3): DenseLayer(\n",
              "        (norm1): BatchNormAct2d(\n",
              "          192, eps=1e-05, momentum=0.1, affine=True, track_running_stats=True\n",
              "          (act): ReLU(inplace=True)\n",
              "        )\n",
              "        (conv1): Conv2d(192, 128, kernel_size=(1, 1), stride=(1, 1), bias=False)\n",
              "        (norm2): BatchNormAct2d(\n",
              "          128, eps=1e-05, momentum=0.1, affine=True, track_running_stats=True\n",
              "          (act): ReLU(inplace=True)\n",
              "        )\n",
              "        (conv2): Conv2d(128, 32, kernel_size=(3, 3), stride=(1, 1), padding=(1, 1), bias=False)\n",
              "      )\n",
              "      (denselayer4): DenseLayer(\n",
              "        (norm1): BatchNormAct2d(\n",
              "          224, eps=1e-05, momentum=0.1, affine=True, track_running_stats=True\n",
              "          (act): ReLU(inplace=True)\n",
              "        )\n",
              "        (conv1): Conv2d(224, 128, kernel_size=(1, 1), stride=(1, 1), bias=False)\n",
              "        (norm2): BatchNormAct2d(\n",
              "          128, eps=1e-05, momentum=0.1, affine=True, track_running_stats=True\n",
              "          (act): ReLU(inplace=True)\n",
              "        )\n",
              "        (conv2): Conv2d(128, 32, kernel_size=(3, 3), stride=(1, 1), padding=(1, 1), bias=False)\n",
              "      )\n",
              "      (denselayer5): DenseLayer(\n",
              "        (norm1): BatchNormAct2d(\n",
              "          256, eps=1e-05, momentum=0.1, affine=True, track_running_stats=True\n",
              "          (act): ReLU(inplace=True)\n",
              "        )\n",
              "        (conv1): Conv2d(256, 128, kernel_size=(1, 1), stride=(1, 1), bias=False)\n",
              "        (norm2): BatchNormAct2d(\n",
              "          128, eps=1e-05, momentum=0.1, affine=True, track_running_stats=True\n",
              "          (act): ReLU(inplace=True)\n",
              "        )\n",
              "        (conv2): Conv2d(128, 32, kernel_size=(3, 3), stride=(1, 1), padding=(1, 1), bias=False)\n",
              "      )\n",
              "      (denselayer6): DenseLayer(\n",
              "        (norm1): BatchNormAct2d(\n",
              "          288, eps=1e-05, momentum=0.1, affine=True, track_running_stats=True\n",
              "          (act): ReLU(inplace=True)\n",
              "        )\n",
              "        (conv1): Conv2d(288, 128, kernel_size=(1, 1), stride=(1, 1), bias=False)\n",
              "        (norm2): BatchNormAct2d(\n",
              "          128, eps=1e-05, momentum=0.1, affine=True, track_running_stats=True\n",
              "          (act): ReLU(inplace=True)\n",
              "        )\n",
              "        (conv2): Conv2d(128, 32, kernel_size=(3, 3), stride=(1, 1), padding=(1, 1), bias=False)\n",
              "      )\n",
              "      (denselayer7): DenseLayer(\n",
              "        (norm1): BatchNormAct2d(\n",
              "          320, eps=1e-05, momentum=0.1, affine=True, track_running_stats=True\n",
              "          (act): ReLU(inplace=True)\n",
              "        )\n",
              "        (conv1): Conv2d(320, 128, kernel_size=(1, 1), stride=(1, 1), bias=False)\n",
              "        (norm2): BatchNormAct2d(\n",
              "          128, eps=1e-05, momentum=0.1, affine=True, track_running_stats=True\n",
              "          (act): ReLU(inplace=True)\n",
              "        )\n",
              "        (conv2): Conv2d(128, 32, kernel_size=(3, 3), stride=(1, 1), padding=(1, 1), bias=False)\n",
              "      )\n",
              "      (denselayer8): DenseLayer(\n",
              "        (norm1): BatchNormAct2d(\n",
              "          352, eps=1e-05, momentum=0.1, affine=True, track_running_stats=True\n",
              "          (act): ReLU(inplace=True)\n",
              "        )\n",
              "        (conv1): Conv2d(352, 128, kernel_size=(1, 1), stride=(1, 1), bias=False)\n",
              "        (norm2): BatchNormAct2d(\n",
              "          128, eps=1e-05, momentum=0.1, affine=True, track_running_stats=True\n",
              "          (act): ReLU(inplace=True)\n",
              "        )\n",
              "        (conv2): Conv2d(128, 32, kernel_size=(3, 3), stride=(1, 1), padding=(1, 1), bias=False)\n",
              "      )\n",
              "      (denselayer9): DenseLayer(\n",
              "        (norm1): BatchNormAct2d(\n",
              "          384, eps=1e-05, momentum=0.1, affine=True, track_running_stats=True\n",
              "          (act): ReLU(inplace=True)\n",
              "        )\n",
              "        (conv1): Conv2d(384, 128, kernel_size=(1, 1), stride=(1, 1), bias=False)\n",
              "        (norm2): BatchNormAct2d(\n",
              "          128, eps=1e-05, momentum=0.1, affine=True, track_running_stats=True\n",
              "          (act): ReLU(inplace=True)\n",
              "        )\n",
              "        (conv2): Conv2d(128, 32, kernel_size=(3, 3), stride=(1, 1), padding=(1, 1), bias=False)\n",
              "      )\n",
              "      (denselayer10): DenseLayer(\n",
              "        (norm1): BatchNormAct2d(\n",
              "          416, eps=1e-05, momentum=0.1, affine=True, track_running_stats=True\n",
              "          (act): ReLU(inplace=True)\n",
              "        )\n",
              "        (conv1): Conv2d(416, 128, kernel_size=(1, 1), stride=(1, 1), bias=False)\n",
              "        (norm2): BatchNormAct2d(\n",
              "          128, eps=1e-05, momentum=0.1, affine=True, track_running_stats=True\n",
              "          (act): ReLU(inplace=True)\n",
              "        )\n",
              "        (conv2): Conv2d(128, 32, kernel_size=(3, 3), stride=(1, 1), padding=(1, 1), bias=False)\n",
              "      )\n",
              "      (denselayer11): DenseLayer(\n",
              "        (norm1): BatchNormAct2d(\n",
              "          448, eps=1e-05, momentum=0.1, affine=True, track_running_stats=True\n",
              "          (act): ReLU(inplace=True)\n",
              "        )\n",
              "        (conv1): Conv2d(448, 128, kernel_size=(1, 1), stride=(1, 1), bias=False)\n",
              "        (norm2): BatchNormAct2d(\n",
              "          128, eps=1e-05, momentum=0.1, affine=True, track_running_stats=True\n",
              "          (act): ReLU(inplace=True)\n",
              "        )\n",
              "        (conv2): Conv2d(128, 32, kernel_size=(3, 3), stride=(1, 1), padding=(1, 1), bias=False)\n",
              "      )\n",
              "      (denselayer12): DenseLayer(\n",
              "        (norm1): BatchNormAct2d(\n",
              "          480, eps=1e-05, momentum=0.1, affine=True, track_running_stats=True\n",
              "          (act): ReLU(inplace=True)\n",
              "        )\n",
              "        (conv1): Conv2d(480, 128, kernel_size=(1, 1), stride=(1, 1), bias=False)\n",
              "        (norm2): BatchNormAct2d(\n",
              "          128, eps=1e-05, momentum=0.1, affine=True, track_running_stats=True\n",
              "          (act): ReLU(inplace=True)\n",
              "        )\n",
              "        (conv2): Conv2d(128, 32, kernel_size=(3, 3), stride=(1, 1), padding=(1, 1), bias=False)\n",
              "      )\n",
              "    )\n",
              "    (transition2): DenseTransition(\n",
              "      (norm): BatchNormAct2d(\n",
              "        512, eps=1e-05, momentum=0.1, affine=True, track_running_stats=True\n",
              "        (act): ReLU(inplace=True)\n",
              "      )\n",
              "      (conv): Conv2d(512, 256, kernel_size=(1, 1), stride=(1, 1), bias=False)\n",
              "      (pool): AvgPool2d(kernel_size=2, stride=2, padding=0)\n",
              "    )\n",
              "    (denseblock3): DenseBlock(\n",
              "      (denselayer1): DenseLayer(\n",
              "        (norm1): BatchNormAct2d(\n",
              "          256, eps=1e-05, momentum=0.1, affine=True, track_running_stats=True\n",
              "          (act): ReLU(inplace=True)\n",
              "        )\n",
              "        (conv1): Conv2d(256, 128, kernel_size=(1, 1), stride=(1, 1), bias=False)\n",
              "        (norm2): BatchNormAct2d(\n",
              "          128, eps=1e-05, momentum=0.1, affine=True, track_running_stats=True\n",
              "          (act): ReLU(inplace=True)\n",
              "        )\n",
              "        (conv2): Conv2d(128, 32, kernel_size=(3, 3), stride=(1, 1), padding=(1, 1), bias=False)\n",
              "      )\n",
              "      (denselayer2): DenseLayer(\n",
              "        (norm1): BatchNormAct2d(\n",
              "          288, eps=1e-05, momentum=0.1, affine=True, track_running_stats=True\n",
              "          (act): ReLU(inplace=True)\n",
              "        )\n",
              "        (conv1): Conv2d(288, 128, kernel_size=(1, 1), stride=(1, 1), bias=False)\n",
              "        (norm2): BatchNormAct2d(\n",
              "          128, eps=1e-05, momentum=0.1, affine=True, track_running_stats=True\n",
              "          (act): ReLU(inplace=True)\n",
              "        )\n",
              "        (conv2): Conv2d(128, 32, kernel_size=(3, 3), stride=(1, 1), padding=(1, 1), bias=False)\n",
              "      )\n",
              "      (denselayer3): DenseLayer(\n",
              "        (norm1): BatchNormAct2d(\n",
              "          320, eps=1e-05, momentum=0.1, affine=True, track_running_stats=True\n",
              "          (act): ReLU(inplace=True)\n",
              "        )\n",
              "        (conv1): Conv2d(320, 128, kernel_size=(1, 1), stride=(1, 1), bias=False)\n",
              "        (norm2): BatchNormAct2d(\n",
              "          128, eps=1e-05, momentum=0.1, affine=True, track_running_stats=True\n",
              "          (act): ReLU(inplace=True)\n",
              "        )\n",
              "        (conv2): Conv2d(128, 32, kernel_size=(3, 3), stride=(1, 1), padding=(1, 1), bias=False)\n",
              "      )\n",
              "      (denselayer4): DenseLayer(\n",
              "        (norm1): BatchNormAct2d(\n",
              "          352, eps=1e-05, momentum=0.1, affine=True, track_running_stats=True\n",
              "          (act): ReLU(inplace=True)\n",
              "        )\n",
              "        (conv1): Conv2d(352, 128, kernel_size=(1, 1), stride=(1, 1), bias=False)\n",
              "        (norm2): BatchNormAct2d(\n",
              "          128, eps=1e-05, momentum=0.1, affine=True, track_running_stats=True\n",
              "          (act): ReLU(inplace=True)\n",
              "        )\n",
              "        (conv2): Conv2d(128, 32, kernel_size=(3, 3), stride=(1, 1), padding=(1, 1), bias=False)\n",
              "      )\n",
              "      (denselayer5): DenseLayer(\n",
              "        (norm1): BatchNormAct2d(\n",
              "          384, eps=1e-05, momentum=0.1, affine=True, track_running_stats=True\n",
              "          (act): ReLU(inplace=True)\n",
              "        )\n",
              "        (conv1): Conv2d(384, 128, kernel_size=(1, 1), stride=(1, 1), bias=False)\n",
              "        (norm2): BatchNormAct2d(\n",
              "          128, eps=1e-05, momentum=0.1, affine=True, track_running_stats=True\n",
              "          (act): ReLU(inplace=True)\n",
              "        )\n",
              "        (conv2): Conv2d(128, 32, kernel_size=(3, 3), stride=(1, 1), padding=(1, 1), bias=False)\n",
              "      )\n",
              "      (denselayer6): DenseLayer(\n",
              "        (norm1): BatchNormAct2d(\n",
              "          416, eps=1e-05, momentum=0.1, affine=True, track_running_stats=True\n",
              "          (act): ReLU(inplace=True)\n",
              "        )\n",
              "        (conv1): Conv2d(416, 128, kernel_size=(1, 1), stride=(1, 1), bias=False)\n",
              "        (norm2): BatchNormAct2d(\n",
              "          128, eps=1e-05, momentum=0.1, affine=True, track_running_stats=True\n",
              "          (act): ReLU(inplace=True)\n",
              "        )\n",
              "        (conv2): Conv2d(128, 32, kernel_size=(3, 3), stride=(1, 1), padding=(1, 1), bias=False)\n",
              "      )\n",
              "      (denselayer7): DenseLayer(\n",
              "        (norm1): BatchNormAct2d(\n",
              "          448, eps=1e-05, momentum=0.1, affine=True, track_running_stats=True\n",
              "          (act): ReLU(inplace=True)\n",
              "        )\n",
              "        (conv1): Conv2d(448, 128, kernel_size=(1, 1), stride=(1, 1), bias=False)\n",
              "        (norm2): BatchNormAct2d(\n",
              "          128, eps=1e-05, momentum=0.1, affine=True, track_running_stats=True\n",
              "          (act): ReLU(inplace=True)\n",
              "        )\n",
              "        (conv2): Conv2d(128, 32, kernel_size=(3, 3), stride=(1, 1), padding=(1, 1), bias=False)\n",
              "      )\n",
              "      (denselayer8): DenseLayer(\n",
              "        (norm1): BatchNormAct2d(\n",
              "          480, eps=1e-05, momentum=0.1, affine=True, track_running_stats=True\n",
              "          (act): ReLU(inplace=True)\n",
              "        )\n",
              "        (conv1): Conv2d(480, 128, kernel_size=(1, 1), stride=(1, 1), bias=False)\n",
              "        (norm2): BatchNormAct2d(\n",
              "          128, eps=1e-05, momentum=0.1, affine=True, track_running_stats=True\n",
              "          (act): ReLU(inplace=True)\n",
              "        )\n",
              "        (conv2): Conv2d(128, 32, kernel_size=(3, 3), stride=(1, 1), padding=(1, 1), bias=False)\n",
              "      )\n",
              "      (denselayer9): DenseLayer(\n",
              "        (norm1): BatchNormAct2d(\n",
              "          512, eps=1e-05, momentum=0.1, affine=True, track_running_stats=True\n",
              "          (act): ReLU(inplace=True)\n",
              "        )\n",
              "        (conv1): Conv2d(512, 128, kernel_size=(1, 1), stride=(1, 1), bias=False)\n",
              "        (norm2): BatchNormAct2d(\n",
              "          128, eps=1e-05, momentum=0.1, affine=True, track_running_stats=True\n",
              "          (act): ReLU(inplace=True)\n",
              "        )\n",
              "        (conv2): Conv2d(128, 32, kernel_size=(3, 3), stride=(1, 1), padding=(1, 1), bias=False)\n",
              "      )\n",
              "      (denselayer10): DenseLayer(\n",
              "        (norm1): BatchNormAct2d(\n",
              "          544, eps=1e-05, momentum=0.1, affine=True, track_running_stats=True\n",
              "          (act): ReLU(inplace=True)\n",
              "        )\n",
              "        (conv1): Conv2d(544, 128, kernel_size=(1, 1), stride=(1, 1), bias=False)\n",
              "        (norm2): BatchNormAct2d(\n",
              "          128, eps=1e-05, momentum=0.1, affine=True, track_running_stats=True\n",
              "          (act): ReLU(inplace=True)\n",
              "        )\n",
              "        (conv2): Conv2d(128, 32, kernel_size=(3, 3), stride=(1, 1), padding=(1, 1), bias=False)\n",
              "      )\n",
              "      (denselayer11): DenseLayer(\n",
              "        (norm1): BatchNormAct2d(\n",
              "          576, eps=1e-05, momentum=0.1, affine=True, track_running_stats=True\n",
              "          (act): ReLU(inplace=True)\n",
              "        )\n",
              "        (conv1): Conv2d(576, 128, kernel_size=(1, 1), stride=(1, 1), bias=False)\n",
              "        (norm2): BatchNormAct2d(\n",
              "          128, eps=1e-05, momentum=0.1, affine=True, track_running_stats=True\n",
              "          (act): ReLU(inplace=True)\n",
              "        )\n",
              "        (conv2): Conv2d(128, 32, kernel_size=(3, 3), stride=(1, 1), padding=(1, 1), bias=False)\n",
              "      )\n",
              "      (denselayer12): DenseLayer(\n",
              "        (norm1): BatchNormAct2d(\n",
              "          608, eps=1e-05, momentum=0.1, affine=True, track_running_stats=True\n",
              "          (act): ReLU(inplace=True)\n",
              "        )\n",
              "        (conv1): Conv2d(608, 128, kernel_size=(1, 1), stride=(1, 1), bias=False)\n",
              "        (norm2): BatchNormAct2d(\n",
              "          128, eps=1e-05, momentum=0.1, affine=True, track_running_stats=True\n",
              "          (act): ReLU(inplace=True)\n",
              "        )\n",
              "        (conv2): Conv2d(128, 32, kernel_size=(3, 3), stride=(1, 1), padding=(1, 1), bias=False)\n",
              "      )\n",
              "      (denselayer13): DenseLayer(\n",
              "        (norm1): BatchNormAct2d(\n",
              "          640, eps=1e-05, momentum=0.1, affine=True, track_running_stats=True\n",
              "          (act): ReLU(inplace=True)\n",
              "        )\n",
              "        (conv1): Conv2d(640, 128, kernel_size=(1, 1), stride=(1, 1), bias=False)\n",
              "        (norm2): BatchNormAct2d(\n",
              "          128, eps=1e-05, momentum=0.1, affine=True, track_running_stats=True\n",
              "          (act): ReLU(inplace=True)\n",
              "        )\n",
              "        (conv2): Conv2d(128, 32, kernel_size=(3, 3), stride=(1, 1), padding=(1, 1), bias=False)\n",
              "      )\n",
              "      (denselayer14): DenseLayer(\n",
              "        (norm1): BatchNormAct2d(\n",
              "          672, eps=1e-05, momentum=0.1, affine=True, track_running_stats=True\n",
              "          (act): ReLU(inplace=True)\n",
              "        )\n",
              "        (conv1): Conv2d(672, 128, kernel_size=(1, 1), stride=(1, 1), bias=False)\n",
              "        (norm2): BatchNormAct2d(\n",
              "          128, eps=1e-05, momentum=0.1, affine=True, track_running_stats=True\n",
              "          (act): ReLU(inplace=True)\n",
              "        )\n",
              "        (conv2): Conv2d(128, 32, kernel_size=(3, 3), stride=(1, 1), padding=(1, 1), bias=False)\n",
              "      )\n",
              "      (denselayer15): DenseLayer(\n",
              "        (norm1): BatchNormAct2d(\n",
              "          704, eps=1e-05, momentum=0.1, affine=True, track_running_stats=True\n",
              "          (act): ReLU(inplace=True)\n",
              "        )\n",
              "        (conv1): Conv2d(704, 128, kernel_size=(1, 1), stride=(1, 1), bias=False)\n",
              "        (norm2): BatchNormAct2d(\n",
              "          128, eps=1e-05, momentum=0.1, affine=True, track_running_stats=True\n",
              "          (act): ReLU(inplace=True)\n",
              "        )\n",
              "        (conv2): Conv2d(128, 32, kernel_size=(3, 3), stride=(1, 1), padding=(1, 1), bias=False)\n",
              "      )\n",
              "      (denselayer16): DenseLayer(\n",
              "        (norm1): BatchNormAct2d(\n",
              "          736, eps=1e-05, momentum=0.1, affine=True, track_running_stats=True\n",
              "          (act): ReLU(inplace=True)\n",
              "        )\n",
              "        (conv1): Conv2d(736, 128, kernel_size=(1, 1), stride=(1, 1), bias=False)\n",
              "        (norm2): BatchNormAct2d(\n",
              "          128, eps=1e-05, momentum=0.1, affine=True, track_running_stats=True\n",
              "          (act): ReLU(inplace=True)\n",
              "        )\n",
              "        (conv2): Conv2d(128, 32, kernel_size=(3, 3), stride=(1, 1), padding=(1, 1), bias=False)\n",
              "      )\n",
              "      (denselayer17): DenseLayer(\n",
              "        (norm1): BatchNormAct2d(\n",
              "          768, eps=1e-05, momentum=0.1, affine=True, track_running_stats=True\n",
              "          (act): ReLU(inplace=True)\n",
              "        )\n",
              "        (conv1): Conv2d(768, 128, kernel_size=(1, 1), stride=(1, 1), bias=False)\n",
              "        (norm2): BatchNormAct2d(\n",
              "          128, eps=1e-05, momentum=0.1, affine=True, track_running_stats=True\n",
              "          (act): ReLU(inplace=True)\n",
              "        )\n",
              "        (conv2): Conv2d(128, 32, kernel_size=(3, 3), stride=(1, 1), padding=(1, 1), bias=False)\n",
              "      )\n",
              "      (denselayer18): DenseLayer(\n",
              "        (norm1): BatchNormAct2d(\n",
              "          800, eps=1e-05, momentum=0.1, affine=True, track_running_stats=True\n",
              "          (act): ReLU(inplace=True)\n",
              "        )\n",
              "        (conv1): Conv2d(800, 128, kernel_size=(1, 1), stride=(1, 1), bias=False)\n",
              "        (norm2): BatchNormAct2d(\n",
              "          128, eps=1e-05, momentum=0.1, affine=True, track_running_stats=True\n",
              "          (act): ReLU(inplace=True)\n",
              "        )\n",
              "        (conv2): Conv2d(128, 32, kernel_size=(3, 3), stride=(1, 1), padding=(1, 1), bias=False)\n",
              "      )\n",
              "      (denselayer19): DenseLayer(\n",
              "        (norm1): BatchNormAct2d(\n",
              "          832, eps=1e-05, momentum=0.1, affine=True, track_running_stats=True\n",
              "          (act): ReLU(inplace=True)\n",
              "        )\n",
              "        (conv1): Conv2d(832, 128, kernel_size=(1, 1), stride=(1, 1), bias=False)\n",
              "        (norm2): BatchNormAct2d(\n",
              "          128, eps=1e-05, momentum=0.1, affine=True, track_running_stats=True\n",
              "          (act): ReLU(inplace=True)\n",
              "        )\n",
              "        (conv2): Conv2d(128, 32, kernel_size=(3, 3), stride=(1, 1), padding=(1, 1), bias=False)\n",
              "      )\n",
              "      (denselayer20): DenseLayer(\n",
              "        (norm1): BatchNormAct2d(\n",
              "          864, eps=1e-05, momentum=0.1, affine=True, track_running_stats=True\n",
              "          (act): ReLU(inplace=True)\n",
              "        )\n",
              "        (conv1): Conv2d(864, 128, kernel_size=(1, 1), stride=(1, 1), bias=False)\n",
              "        (norm2): BatchNormAct2d(\n",
              "          128, eps=1e-05, momentum=0.1, affine=True, track_running_stats=True\n",
              "          (act): ReLU(inplace=True)\n",
              "        )\n",
              "        (conv2): Conv2d(128, 32, kernel_size=(3, 3), stride=(1, 1), padding=(1, 1), bias=False)\n",
              "      )\n",
              "      (denselayer21): DenseLayer(\n",
              "        (norm1): BatchNormAct2d(\n",
              "          896, eps=1e-05, momentum=0.1, affine=True, track_running_stats=True\n",
              "          (act): ReLU(inplace=True)\n",
              "        )\n",
              "        (conv1): Conv2d(896, 128, kernel_size=(1, 1), stride=(1, 1), bias=False)\n",
              "        (norm2): BatchNormAct2d(\n",
              "          128, eps=1e-05, momentum=0.1, affine=True, track_running_stats=True\n",
              "          (act): ReLU(inplace=True)\n",
              "        )\n",
              "        (conv2): Conv2d(128, 32, kernel_size=(3, 3), stride=(1, 1), padding=(1, 1), bias=False)\n",
              "      )\n",
              "      (denselayer22): DenseLayer(\n",
              "        (norm1): BatchNormAct2d(\n",
              "          928, eps=1e-05, momentum=0.1, affine=True, track_running_stats=True\n",
              "          (act): ReLU(inplace=True)\n",
              "        )\n",
              "        (conv1): Conv2d(928, 128, kernel_size=(1, 1), stride=(1, 1), bias=False)\n",
              "        (norm2): BatchNormAct2d(\n",
              "          128, eps=1e-05, momentum=0.1, affine=True, track_running_stats=True\n",
              "          (act): ReLU(inplace=True)\n",
              "        )\n",
              "        (conv2): Conv2d(128, 32, kernel_size=(3, 3), stride=(1, 1), padding=(1, 1), bias=False)\n",
              "      )\n",
              "      (denselayer23): DenseLayer(\n",
              "        (norm1): BatchNormAct2d(\n",
              "          960, eps=1e-05, momentum=0.1, affine=True, track_running_stats=True\n",
              "          (act): ReLU(inplace=True)\n",
              "        )\n",
              "        (conv1): Conv2d(960, 128, kernel_size=(1, 1), stride=(1, 1), bias=False)\n",
              "        (norm2): BatchNormAct2d(\n",
              "          128, eps=1e-05, momentum=0.1, affine=True, track_running_stats=True\n",
              "          (act): ReLU(inplace=True)\n",
              "        )\n",
              "        (conv2): Conv2d(128, 32, kernel_size=(3, 3), stride=(1, 1), padding=(1, 1), bias=False)\n",
              "      )\n",
              "      (denselayer24): DenseLayer(\n",
              "        (norm1): BatchNormAct2d(\n",
              "          992, eps=1e-05, momentum=0.1, affine=True, track_running_stats=True\n",
              "          (act): ReLU(inplace=True)\n",
              "        )\n",
              "        (conv1): Conv2d(992, 128, kernel_size=(1, 1), stride=(1, 1), bias=False)\n",
              "        (norm2): BatchNormAct2d(\n",
              "          128, eps=1e-05, momentum=0.1, affine=True, track_running_stats=True\n",
              "          (act): ReLU(inplace=True)\n",
              "        )\n",
              "        (conv2): Conv2d(128, 32, kernel_size=(3, 3), stride=(1, 1), padding=(1, 1), bias=False)\n",
              "      )\n",
              "    )\n",
              "    (transition3): DenseTransition(\n",
              "      (norm): BatchNormAct2d(\n",
              "        1024, eps=1e-05, momentum=0.1, affine=True, track_running_stats=True\n",
              "        (act): ReLU(inplace=True)\n",
              "      )\n",
              "      (conv): Conv2d(1024, 512, kernel_size=(1, 1), stride=(1, 1), bias=False)\n",
              "      (pool): AvgPool2d(kernel_size=2, stride=2, padding=0)\n",
              "    )\n",
              "    (denseblock4): DenseBlock(\n",
              "      (denselayer1): DenseLayer(\n",
              "        (norm1): BatchNormAct2d(\n",
              "          512, eps=1e-05, momentum=0.1, affine=True, track_running_stats=True\n",
              "          (act): ReLU(inplace=True)\n",
              "        )\n",
              "        (conv1): Conv2d(512, 128, kernel_size=(1, 1), stride=(1, 1), bias=False)\n",
              "        (norm2): BatchNormAct2d(\n",
              "          128, eps=1e-05, momentum=0.1, affine=True, track_running_stats=True\n",
              "          (act): ReLU(inplace=True)\n",
              "        )\n",
              "        (conv2): Conv2d(128, 32, kernel_size=(3, 3), stride=(1, 1), padding=(1, 1), bias=False)\n",
              "      )\n",
              "      (denselayer2): DenseLayer(\n",
              "        (norm1): BatchNormAct2d(\n",
              "          544, eps=1e-05, momentum=0.1, affine=True, track_running_stats=True\n",
              "          (act): ReLU(inplace=True)\n",
              "        )\n",
              "        (conv1): Conv2d(544, 128, kernel_size=(1, 1), stride=(1, 1), bias=False)\n",
              "        (norm2): BatchNormAct2d(\n",
              "          128, eps=1e-05, momentum=0.1, affine=True, track_running_stats=True\n",
              "          (act): ReLU(inplace=True)\n",
              "        )\n",
              "        (conv2): Conv2d(128, 32, kernel_size=(3, 3), stride=(1, 1), padding=(1, 1), bias=False)\n",
              "      )\n",
              "      (denselayer3): DenseLayer(\n",
              "        (norm1): BatchNormAct2d(\n",
              "          576, eps=1e-05, momentum=0.1, affine=True, track_running_stats=True\n",
              "          (act): ReLU(inplace=True)\n",
              "        )\n",
              "        (conv1): Conv2d(576, 128, kernel_size=(1, 1), stride=(1, 1), bias=False)\n",
              "        (norm2): BatchNormAct2d(\n",
              "          128, eps=1e-05, momentum=0.1, affine=True, track_running_stats=True\n",
              "          (act): ReLU(inplace=True)\n",
              "        )\n",
              "        (conv2): Conv2d(128, 32, kernel_size=(3, 3), stride=(1, 1), padding=(1, 1), bias=False)\n",
              "      )\n",
              "      (denselayer4): DenseLayer(\n",
              "        (norm1): BatchNormAct2d(\n",
              "          608, eps=1e-05, momentum=0.1, affine=True, track_running_stats=True\n",
              "          (act): ReLU(inplace=True)\n",
              "        )\n",
              "        (conv1): Conv2d(608, 128, kernel_size=(1, 1), stride=(1, 1), bias=False)\n",
              "        (norm2): BatchNormAct2d(\n",
              "          128, eps=1e-05, momentum=0.1, affine=True, track_running_stats=True\n",
              "          (act): ReLU(inplace=True)\n",
              "        )\n",
              "        (conv2): Conv2d(128, 32, kernel_size=(3, 3), stride=(1, 1), padding=(1, 1), bias=False)\n",
              "      )\n",
              "      (denselayer5): DenseLayer(\n",
              "        (norm1): BatchNormAct2d(\n",
              "          640, eps=1e-05, momentum=0.1, affine=True, track_running_stats=True\n",
              "          (act): ReLU(inplace=True)\n",
              "        )\n",
              "        (conv1): Conv2d(640, 128, kernel_size=(1, 1), stride=(1, 1), bias=False)\n",
              "        (norm2): BatchNormAct2d(\n",
              "          128, eps=1e-05, momentum=0.1, affine=True, track_running_stats=True\n",
              "          (act): ReLU(inplace=True)\n",
              "        )\n",
              "        (conv2): Conv2d(128, 32, kernel_size=(3, 3), stride=(1, 1), padding=(1, 1), bias=False)\n",
              "      )\n",
              "      (denselayer6): DenseLayer(\n",
              "        (norm1): BatchNormAct2d(\n",
              "          672, eps=1e-05, momentum=0.1, affine=True, track_running_stats=True\n",
              "          (act): ReLU(inplace=True)\n",
              "        )\n",
              "        (conv1): Conv2d(672, 128, kernel_size=(1, 1), stride=(1, 1), bias=False)\n",
              "        (norm2): BatchNormAct2d(\n",
              "          128, eps=1e-05, momentum=0.1, affine=True, track_running_stats=True\n",
              "          (act): ReLU(inplace=True)\n",
              "        )\n",
              "        (conv2): Conv2d(128, 32, kernel_size=(3, 3), stride=(1, 1), padding=(1, 1), bias=False)\n",
              "      )\n",
              "      (denselayer7): DenseLayer(\n",
              "        (norm1): BatchNormAct2d(\n",
              "          704, eps=1e-05, momentum=0.1, affine=True, track_running_stats=True\n",
              "          (act): ReLU(inplace=True)\n",
              "        )\n",
              "        (conv1): Conv2d(704, 128, kernel_size=(1, 1), stride=(1, 1), bias=False)\n",
              "        (norm2): BatchNormAct2d(\n",
              "          128, eps=1e-05, momentum=0.1, affine=True, track_running_stats=True\n",
              "          (act): ReLU(inplace=True)\n",
              "        )\n",
              "        (conv2): Conv2d(128, 32, kernel_size=(3, 3), stride=(1, 1), padding=(1, 1), bias=False)\n",
              "      )\n",
              "      (denselayer8): DenseLayer(\n",
              "        (norm1): BatchNormAct2d(\n",
              "          736, eps=1e-05, momentum=0.1, affine=True, track_running_stats=True\n",
              "          (act): ReLU(inplace=True)\n",
              "        )\n",
              "        (conv1): Conv2d(736, 128, kernel_size=(1, 1), stride=(1, 1), bias=False)\n",
              "        (norm2): BatchNormAct2d(\n",
              "          128, eps=1e-05, momentum=0.1, affine=True, track_running_stats=True\n",
              "          (act): ReLU(inplace=True)\n",
              "        )\n",
              "        (conv2): Conv2d(128, 32, kernel_size=(3, 3), stride=(1, 1), padding=(1, 1), bias=False)\n",
              "      )\n",
              "      (denselayer9): DenseLayer(\n",
              "        (norm1): BatchNormAct2d(\n",
              "          768, eps=1e-05, momentum=0.1, affine=True, track_running_stats=True\n",
              "          (act): ReLU(inplace=True)\n",
              "        )\n",
              "        (conv1): Conv2d(768, 128, kernel_size=(1, 1), stride=(1, 1), bias=False)\n",
              "        (norm2): BatchNormAct2d(\n",
              "          128, eps=1e-05, momentum=0.1, affine=True, track_running_stats=True\n",
              "          (act): ReLU(inplace=True)\n",
              "        )\n",
              "        (conv2): Conv2d(128, 32, kernel_size=(3, 3), stride=(1, 1), padding=(1, 1), bias=False)\n",
              "      )\n",
              "      (denselayer10): DenseLayer(\n",
              "        (norm1): BatchNormAct2d(\n",
              "          800, eps=1e-05, momentum=0.1, affine=True, track_running_stats=True\n",
              "          (act): ReLU(inplace=True)\n",
              "        )\n",
              "        (conv1): Conv2d(800, 128, kernel_size=(1, 1), stride=(1, 1), bias=False)\n",
              "        (norm2): BatchNormAct2d(\n",
              "          128, eps=1e-05, momentum=0.1, affine=True, track_running_stats=True\n",
              "          (act): ReLU(inplace=True)\n",
              "        )\n",
              "        (conv2): Conv2d(128, 32, kernel_size=(3, 3), stride=(1, 1), padding=(1, 1), bias=False)\n",
              "      )\n",
              "      (denselayer11): DenseLayer(\n",
              "        (norm1): BatchNormAct2d(\n",
              "          832, eps=1e-05, momentum=0.1, affine=True, track_running_stats=True\n",
              "          (act): ReLU(inplace=True)\n",
              "        )\n",
              "        (conv1): Conv2d(832, 128, kernel_size=(1, 1), stride=(1, 1), bias=False)\n",
              "        (norm2): BatchNormAct2d(\n",
              "          128, eps=1e-05, momentum=0.1, affine=True, track_running_stats=True\n",
              "          (act): ReLU(inplace=True)\n",
              "        )\n",
              "        (conv2): Conv2d(128, 32, kernel_size=(3, 3), stride=(1, 1), padding=(1, 1), bias=False)\n",
              "      )\n",
              "      (denselayer12): DenseLayer(\n",
              "        (norm1): BatchNormAct2d(\n",
              "          864, eps=1e-05, momentum=0.1, affine=True, track_running_stats=True\n",
              "          (act): ReLU(inplace=True)\n",
              "        )\n",
              "        (conv1): Conv2d(864, 128, kernel_size=(1, 1), stride=(1, 1), bias=False)\n",
              "        (norm2): BatchNormAct2d(\n",
              "          128, eps=1e-05, momentum=0.1, affine=True, track_running_stats=True\n",
              "          (act): ReLU(inplace=True)\n",
              "        )\n",
              "        (conv2): Conv2d(128, 32, kernel_size=(3, 3), stride=(1, 1), padding=(1, 1), bias=False)\n",
              "      )\n",
              "      (denselayer13): DenseLayer(\n",
              "        (norm1): BatchNormAct2d(\n",
              "          896, eps=1e-05, momentum=0.1, affine=True, track_running_stats=True\n",
              "          (act): ReLU(inplace=True)\n",
              "        )\n",
              "        (conv1): Conv2d(896, 128, kernel_size=(1, 1), stride=(1, 1), bias=False)\n",
              "        (norm2): BatchNormAct2d(\n",
              "          128, eps=1e-05, momentum=0.1, affine=True, track_running_stats=True\n",
              "          (act): ReLU(inplace=True)\n",
              "        )\n",
              "        (conv2): Conv2d(128, 32, kernel_size=(3, 3), stride=(1, 1), padding=(1, 1), bias=False)\n",
              "      )\n",
              "      (denselayer14): DenseLayer(\n",
              "        (norm1): BatchNormAct2d(\n",
              "          928, eps=1e-05, momentum=0.1, affine=True, track_running_stats=True\n",
              "          (act): ReLU(inplace=True)\n",
              "        )\n",
              "        (conv1): Conv2d(928, 128, kernel_size=(1, 1), stride=(1, 1), bias=False)\n",
              "        (norm2): BatchNormAct2d(\n",
              "          128, eps=1e-05, momentum=0.1, affine=True, track_running_stats=True\n",
              "          (act): ReLU(inplace=True)\n",
              "        )\n",
              "        (conv2): Conv2d(128, 32, kernel_size=(3, 3), stride=(1, 1), padding=(1, 1), bias=False)\n",
              "      )\n",
              "      (denselayer15): DenseLayer(\n",
              "        (norm1): BatchNormAct2d(\n",
              "          960, eps=1e-05, momentum=0.1, affine=True, track_running_stats=True\n",
              "          (act): ReLU(inplace=True)\n",
              "        )\n",
              "        (conv1): Conv2d(960, 128, kernel_size=(1, 1), stride=(1, 1), bias=False)\n",
              "        (norm2): BatchNormAct2d(\n",
              "          128, eps=1e-05, momentum=0.1, affine=True, track_running_stats=True\n",
              "          (act): ReLU(inplace=True)\n",
              "        )\n",
              "        (conv2): Conv2d(128, 32, kernel_size=(3, 3), stride=(1, 1), padding=(1, 1), bias=False)\n",
              "      )\n",
              "      (denselayer16): DenseLayer(\n",
              "        (norm1): BatchNormAct2d(\n",
              "          992, eps=1e-05, momentum=0.1, affine=True, track_running_stats=True\n",
              "          (act): ReLU(inplace=True)\n",
              "        )\n",
              "        (conv1): Conv2d(992, 128, kernel_size=(1, 1), stride=(1, 1), bias=False)\n",
              "        (norm2): BatchNormAct2d(\n",
              "          128, eps=1e-05, momentum=0.1, affine=True, track_running_stats=True\n",
              "          (act): ReLU(inplace=True)\n",
              "        )\n",
              "        (conv2): Conv2d(128, 32, kernel_size=(3, 3), stride=(1, 1), padding=(1, 1), bias=False)\n",
              "      )\n",
              "    )\n",
              "    (norm5): BatchNormAct2d(\n",
              "      1024, eps=1e-05, momentum=0.1, affine=True, track_running_stats=True\n",
              "      (act): ReLU(inplace=True)\n",
              "    )\n",
              "  )\n",
              "  (global_pool): SelectAdaptivePool2d (pool_type=avg, flatten=Flatten(start_dim=1, end_dim=-1))\n",
              "  (classifier): Linear(in_features=1024, out_features=1000, bias=True)\n",
              ")"
            ]
          },
          "metadata": {},
          "execution_count": 6
        }
      ],
      "source": [
        "import timm\n",
        "import time\n",
        "model = timm.create_model('densenet121', pretrained=True)\n",
        "model.eval()"
      ]
    },
    {
      "cell_type": "code",
      "source": [
        "import urllib\n",
        "import matplotlib.pyplot as plt\n",
        "import matplotlib.image as mpimg\n",
        "import numpy as np\n",
        "from PIL import Image\n",
        "from timm.data import resolve_data_config\n",
        "from timm.data.transforms_factory import create_transform\n",
        "\n",
        "config = resolve_data_config({}, model=model)\n",
        "transform = create_transform(**config)\n",
        "print(config)\n",
        "\n",
        "# url, filename = (\"https://github.com/pytorch/hub/raw/master/images/dog.jpg\", \"dog.jpg\")\n",
        "# urllib.request.urlretrieve(url, filename)\n",
        "# img = Image.open(filename).convert('RGB')\n",
        "filename = \"husky15.jpg\"\n",
        "\n",
        "img = Image.open(filename).convert('RGB')\n",
        "read_image = mpimg.imread(filename)\n",
        "implot = plt.imshow(read_image)\n",
        "plt.show()\n",
        "\n",
        "tensor = transform(img).unsqueeze(0) # transform and add batch dimension\n",
        "plt.imshow(np.transpose(transform(img)))\n",
        "plt.show()\n",
        "\n"
      ],
      "metadata": {
        "colab": {
          "base_uri": "https://localhost:8080/",
          "height": 527
        },
        "id": "1UOPWayM6esp",
        "outputId": "8c07d05a-9d12-40d0-dd4a-c0ccd565e74c"
      },
      "execution_count": null,
      "outputs": [
        {
          "output_type": "stream",
          "name": "stdout",
          "text": [
            "{'input_size': (3, 224, 224), 'interpolation': 'bicubic', 'mean': (0.485, 0.456, 0.406), 'std': (0.229, 0.224, 0.225), 'crop_pct': 0.875}\n"
          ]
        },
        {
          "output_type": "display_data",
          "data": {
            "image/png": "[encoded data removed]",
            "text/plain": [
              "<Figure size 432x288 with 1 Axes>"
            ]
          },
          "metadata": {
            "needs_background": "light"
          }
        },
        {
          "output_type": "stream",
          "name": "stderr",
          "text": [
            "Clipping input data to the valid range for imshow with RGB data ([0..1] for floats or [0..255] for integers).\n"
          ]
        },
        {
          "output_type": "display_data",
          "data": {
            "image/png": "[encoded data removed]",
            "text/plain": [
              "<Figure size 432x288 with 1 Axes>"
            ]
          },
          "metadata": {
            "needs_background": "light"
          }
        }
      ]
    },
    {
      "cell_type": "code",
      "source": [
        "import torch\n",
        "with torch.no_grad():\n",
        "  out = model(tensor)\n",
        "probabilities = torch.nn.functional.softmax(out[0], dim=0)\n",
        "print(probabilities.shape)"
      ],
      "metadata": {
        "colab": {
          "base_uri": "https://localhost:8080/"
        },
        "id": "jX8o27za3vsQ",
        "outputId": "061e74d5-bb1a-472e-a12b-afc0a95cbc08"
      },
      "execution_count": null,
      "outputs": [
        {
          "output_type": "stream",
          "name": "stdout",
          "text": [
            "torch.Size([1000])\n"
          ]
        }
      ]
    },
    {
      "cell_type": "code",
      "source": [
        "# Get imagenet class mappings\n",
        "url, filename = (\"https://raw.githubusercontent.com/pytorch/hub/master/imagenet_classes.txt\", \"imagenet_classes.txt\")\n",
        "urllib.request.urlretrieve(url, filename) \n",
        "with open(\"imagenet_classes.txt\", \"r\") as f:\n",
        "    categories = [s.strip() for s in f.readlines()]\n",
        "\n",
        "picture_of = \"Italian greyhound\"\n",
        "print([picture_of in categories])\n",
        "# Print top categories per image\n",
        "top10_prob, top10_catid = torch.topk(probabilities, 10)\n",
        "for i in range(top10_prob.size(0)):\n",
        "    print(categories[top10_catid[i]], top10_prob[i].item())"
      ],
      "metadata": {
        "colab": {
          "base_uri": "https://localhost:8080/"
        },
        "id": "mCK4PKVF6xKp",
        "outputId": "1cda126d-66c8-4369-ca97-88445212d4df"
      },
      "execution_count": null,
      "outputs": [
        {
          "output_type": "stream",
          "name": "stdout",
          "text": [
            "[True]\n",
            "malamute 0.35087060928344727\n",
            "Siberian husky 0.2685803771018982\n",
            "Eskimo dog 0.16957806050777435\n",
            "dogsled 0.06525345891714096\n",
            "Great Pyrenees 0.01526089757680893\n",
            "Norwegian elkhound 0.014557828195393085\n",
            "German shepherd 0.009739367291331291\n",
            "kuvasz 0.004352205898612738\n",
            "Saint Bernard 0.0023615381214767694\n",
            "malinois 0.0022933692671358585\n"
          ]
        }
      ]
    },
    {
      "cell_type": "code",
      "source": [
        "TOTAL_IMAGES_ENTIRE = 0;\n",
        "TOTAL_CORRECT_ENTIRE = 0;"
      ],
      "metadata": {
        "id": "lUNOJpWVdM_M"
      },
      "execution_count": null,
      "outputs": []
    },
    {
      "cell_type": "markdown",
      "source": [
        "## **running inferences on all ratterrier/chihuahua images**\n",
        "-avg latency is calculated here too\n"
      ],
      "metadata": {
        "id": "vHIj2YAIjfR8"
      }
    },
    {
      "cell_type": "code",
      "source": [
        "cd /content/drive/My Drive/UW/2021-22_Senior/Capstone/ENGINE: Wyze/Images/test_yt/n02085620-Chihuahua"
      ],
      "metadata": {
        "colab": {
          "base_uri": "https://localhost:8080/"
        },
        "id": "LEpwE9DZxP-l",
        "outputId": "b7c7218e-8b3e-4f4d-e4ac-f26254ab6395"
      },
      "execution_count": null,
      "outputs": [
        {
          "output_type": "stream",
          "name": "stdout",
          "text": [
            "/content/drive/.shortcut-targets-by-id/1beXLuTyfFnOo3t19p65wHXF-qaxghvjI/ENGINE: Wyze/Images/test_yt/n02085620-Chihuahua\n"
          ]
        }
      ]
    },
    {
      "cell_type": "code",
      "source": [
        "import urllib\n",
        "import matplotlib.pyplot as plt\n",
        "import matplotlib.image as mpimg\n",
        "import numpy as np\n",
        "import torch\n",
        "import os\n",
        "from PIL import Image\n",
        "from timm.data import resolve_data_config\n",
        "from timm.data.transforms_factory import create_transform\n",
        "\n",
        "config = resolve_data_config({}, model=model)\n",
        "transform = create_transform(**config)\n",
        "print(config)\n",
        "\n",
        "accurate_prediction_counter = 0\n",
        "total_number_of_images = 0\n",
        "latency_sum = 0\n",
        "# Get imagenet class mappings\n",
        "url, filename = (\"https://raw.githubusercontent.com/pytorch/hub/master/imagenet_classes.txt\", \"imagenet_classes.txt\")\n",
        "urllib.request.urlretrieve(url, filename) \n",
        "with open(\"imagenet_classes.txt\", \"r\") as f:\n",
        "    categories = [s.strip() for s in f.readlines()]\n",
        "categories = [category.lower() for category in categories]\n",
        "picture_of = \"chihuahua\"\n",
        "key_words = [\"chihuahua\"]\n",
        "softmax_accuracy_threshold = 0.0\n",
        "contains = (picture_of in categories)\n",
        "print(picture_of + \" is a category in ImageNet?: \" + str(contains))\n",
        "\n",
        "for filename in os.listdir(\".\"):\n",
        "  latency_s = time.time()\n",
        "  if filename.endswith(\"jpg\"):\n",
        "    total_number_of_images += 1\n",
        "    img = Image.open(filename).convert('RGB')\n",
        "    tensor = transform(img).unsqueeze(0) # transform and add batch dimension\n",
        "    with torch.no_grad():\n",
        "      out = model(tensor)\n",
        "    probabilities = torch.nn.functional.softmax(out[0], dim=0)\n",
        "    latency_curr_time = (time.time() - latency_s) # find latency end\n",
        "    latency_sum += latency_curr_time\n",
        "    accurate_prediction = False\n",
        "    # Print top categories per image\n",
        "    top3_prob, top3_catid = torch.topk(probabilities, 1)\n",
        "    for i in range(top3_prob.size(0)):\n",
        "      # print(categories[top3_catid[i]], top3_prob[i].item())\n",
        "      category = categories[top3_catid[i]]\n",
        "      for key_word in key_words:\n",
        "        if (key_word in category) and (top3_prob[i].item() > softmax_accuracy_threshold):\n",
        "          accurate_prediction = True\n",
        "    if (accurate_prediction):\n",
        "      # print(filename + \" had its actual category in the top 1 prediction with softmax > \" + str(softmax_accuracy_threshold))\n",
        "      # print(\"\\n\")\n",
        "      accurate_prediction_counter += 1\n",
        "    # else:\n",
        "    #   print(filename + \" did not have its actual category in the top 1 prediction with softmax > \" + str(softmax_accuracy_threshold))\n",
        "    #   print(\"\\n\")\n",
        "accuracy = (accurate_prediction_counter / total_number_of_images) * 100\n",
        "print(\"Total images: \" + str(total_number_of_images))\n",
        "print(\"DenseNet121 had a \" + str(accuracy) + \"% accuracy on images in \" + os.getcwd())\n",
        "average_time = (latency_sum)/total_number_of_images\n",
        "print(\"Average latency is \" + str(average_time))\n",
        "TOTAL_IMAGES_ENTIRE += total_number_of_images\n",
        "TOTAL_CORRECT_ENTIRE += accurate_prediction_counter\n",
        "\n"
      ],
      "metadata": {
        "colab": {
          "base_uri": "https://localhost:8080/"
        },
        "id": "Lt7raDQRUc5L",
        "outputId": "fb13f9b2-1b00-491f-e34e-1728826815b6"
      },
      "execution_count": null,
      "outputs": [
        {
          "output_type": "stream",
          "name": "stdout",
          "text": [
            "{'input_size': (3, 224, 224), 'interpolation': 'bicubic', 'mean': (0.485, 0.456, 0.406), 'std': (0.229, 0.224, 0.225), 'crop_pct': 0.875}\n",
            "chihuahua is a category in ImageNet?: True\n",
            "Total images: 10\n",
            "DenseNet121 had a 60.0% accuracy on images in /content/drive/.shortcut-targets-by-id/1beXLuTyfFnOo3t19p65wHXF-qaxghvjI/ENGINE: Wyze/Images/test_yt/n02085620-Chihuahua\n",
            "Average latency is 0.8853189468383789\n"
          ]
        }
      ]
    },
    {
      "cell_type": "markdown",
      "source": [
        "## **running inferences on all husky images**"
      ],
      "metadata": {
        "id": "ztTmNNMzw9EP"
      }
    },
    {
      "cell_type": "code",
      "source": [
        "cd /content/drive/My Drive/UW/2021-22_Senior/Capstone/ENGINE: Wyze/Images/test_yt/n02110185-Siberian_husky"
      ],
      "metadata": {
        "colab": {
          "base_uri": "https://localhost:8080/"
        },
        "id": "6i2FM81txNZQ",
        "outputId": "bb2c6486-9b2c-463b-fcaa-bf0f09dcfccd"
      },
      "execution_count": null,
      "outputs": [
        {
          "output_type": "stream",
          "name": "stdout",
          "text": [
            "/content/drive/.shortcut-targets-by-id/1beXLuTyfFnOo3t19p65wHXF-qaxghvjI/ENGINE: Wyze/Images/test_yt/n02110185-Siberian_husky\n"
          ]
        }
      ]
    },
    {
      "cell_type": "code",
      "source": [
        "import urllib\n",
        "import matplotlib.pyplot as plt\n",
        "import matplotlib.image as mpimg\n",
        "import numpy as np\n",
        "import torch\n",
        "import os\n",
        "from PIL import Image\n",
        "from timm.data import resolve_data_config\n",
        "from timm.data.transforms_factory import create_transform\n",
        "\n",
        "config = resolve_data_config({}, model=model)\n",
        "transform = create_transform(**config)\n",
        "print(config)\n",
        "\n",
        "accurate_prediction_counter = 0\n",
        "total_number_of_images = 0\n",
        "\n",
        "# Get imagenet class mappings\n",
        "url, filename = (\"https://raw.githubusercontent.com/pytorch/hub/master/imagenet_classes.txt\", \"imagenet_classes.txt\")\n",
        "urllib.request.urlretrieve(url, filename) \n",
        "with open(\"imagenet_classes.txt\", \"r\") as f:\n",
        "    categories = [s.strip() for s in f.readlines()]\n",
        "categories = [category.lower() for category in categories]\n",
        "picture_of = \"siberian husky\"\n",
        "key_words = [\"husky\"]\n",
        "softmax_accuracy_threshold = 0.0\n",
        "contains = (picture_of in categories)\n",
        "print(picture_of + \" is a category in ImageNet?: \" + str(contains))\n",
        "print(\"\\n\")\n",
        "\n",
        "for filename in os.listdir(\".\"):\n",
        "  if filename.endswith(\"jpg\"):\n",
        "    total_number_of_images += 1\n",
        "    img = Image.open(filename).convert('RGB')\n",
        "    tensor = transform(img).unsqueeze(0) # transform and add batch dimension\n",
        "    with torch.no_grad():\n",
        "      out = model(tensor)\n",
        "    probabilities = torch.nn.functional.softmax(out[0], dim=0)\n",
        "    accurate_prediction = False\n",
        "    # Print top categories per image\n",
        "    top3_prob, top3_catid = torch.topk(probabilities, 1)\n",
        "    for i in range(top3_prob.size(0)):\n",
        "      print(categories[top3_catid[i]], top3_prob[i].item())\n",
        "      category = categories[top3_catid[i]]\n",
        "      for key_word in key_words:\n",
        "        if (key_word in category) and (top3_prob[i].item() > softmax_accuracy_threshold):\n",
        "          accurate_prediction = True\n",
        "    if (accurate_prediction):\n",
        "      print(filename + \" had its actual category in the top 1 prediction with softmax > \" + str(softmax_accuracy_threshold))\n",
        "      print(\"\\n\")\n",
        "      accurate_prediction_counter += 1\n",
        "    else:\n",
        "      print(filename + \" did not have its actual category in the top 1 prediction with softmax > \" + str(softmax_accuracy_threshold))\n",
        "      print(\"\\n\")\n",
        "accuracy = (accurate_prediction_counter / total_number_of_images) * 100\n",
        "print(\"Total images: \" + str(total_number_of_images))\n",
        "print(\"DenseNet121 had a \" + str(accuracy) + \"% accuracy on images in \" + os.getcwd())\n",
        "TOTAL_IMAGES_ENTIRE += total_number_of_images\n",
        "TOTAL_CORRECT_ENTIRE += accurate_prediction_counter\n",
        "\n"
      ],
      "metadata": {
        "colab": {
          "base_uri": "https://localhost:8080/"
        },
        "id": "8izJk5vZpQ2M",
        "outputId": "baa74bea-5d09-4d6d-f1ec-ca76be6e8bcc"
      },
      "execution_count": null,
      "outputs": [
        {
          "output_type": "stream",
          "name": "stdout",
          "text": [
            "{'input_size': (3, 224, 224), 'interpolation': 'bicubic', 'mean': (0.485, 0.456, 0.406), 'std': (0.229, 0.224, 0.225), 'crop_pct': 0.875}\n",
            "siberian husky is a category in ImageNet?: True\n",
            "\n",
            "\n",
            "siberian husky 0.5080931782722473\n",
            "n02110185_0.jpg had its actual category in the top 1 prediction with softmax > 0.0\n",
            "\n",
            "\n",
            "siberian husky 0.5453814268112183\n",
            "n02110185_1.jpg had its actual category in the top 1 prediction with softmax > 0.0\n",
            "\n",
            "\n",
            "siberian husky 0.5621984004974365\n",
            "n02110185_2.jpg had its actual category in the top 1 prediction with softmax > 0.0\n",
            "\n",
            "\n",
            "eskimo dog 0.5187883973121643\n",
            "n02110185_3.jpg did not have its actual category in the top 1 prediction with softmax > 0.0\n",
            "\n",
            "\n",
            "siberian husky 0.25157132744789124\n",
            "n02110185_4.jpg had its actual category in the top 1 prediction with softmax > 0.0\n",
            "\n",
            "\n",
            "siberian husky 0.7281521558761597\n",
            "n02110185_5.jpg had its actual category in the top 1 prediction with softmax > 0.0\n",
            "\n",
            "\n",
            "eskimo dog 0.3337833285331726\n",
            "n02110185_6.jpg did not have its actual category in the top 1 prediction with softmax > 0.0\n",
            "\n",
            "\n",
            "siberian husky 0.344605952501297\n",
            "n02110185_7.jpg had its actual category in the top 1 prediction with softmax > 0.0\n",
            "\n",
            "\n",
            "siberian husky 0.3577794134616852\n",
            "n02110185_8.jpg had its actual category in the top 1 prediction with softmax > 0.0\n",
            "\n",
            "\n",
            "siberian husky 0.507196843624115\n",
            "n02110185_9.jpg had its actual category in the top 1 prediction with softmax > 0.0\n",
            "\n",
            "\n",
            "Total images: 10\n",
            "DenseNet121 had a 80.0% accuracy on images in /content/drive/.shortcut-targets-by-id/1beXLuTyfFnOo3t19p65wHXF-qaxghvjI/ENGINE: Wyze/Images/test_yt/n02110185-Siberian_husky\n"
          ]
        }
      ]
    },
    {
      "cell_type": "markdown",
      "source": [
        "## **running inferences on all labrador images**"
      ],
      "metadata": {
        "id": "AfC2t3y1BP0U"
      }
    },
    {
      "cell_type": "code",
      "source": [
        "cd /content/drive/My Drive/UW/2021-22_Senior/Capstone/ENGINE: Wyze/Images/test_yt/n02099712-Labrador_retriever"
      ],
      "metadata": {
        "colab": {
          "base_uri": "https://localhost:8080/"
        },
        "id": "bYM3a4-NA_kJ",
        "outputId": "c472eb2d-429e-439f-b8ed-d3e761ec9490"
      },
      "execution_count": null,
      "outputs": [
        {
          "output_type": "stream",
          "name": "stdout",
          "text": [
            "/content/drive/.shortcut-targets-by-id/1beXLuTyfFnOo3t19p65wHXF-qaxghvjI/ENGINE: Wyze/Images/test_yt/n02099712-Labrador_retriever\n"
          ]
        }
      ]
    },
    {
      "cell_type": "code",
      "source": [
        "import urllib\n",
        "import matplotlib.pyplot as plt\n",
        "import matplotlib.image as mpimg\n",
        "import numpy as np\n",
        "import torch\n",
        "import os\n",
        "from PIL import Image\n",
        "from timm.data import resolve_data_config\n",
        "from timm.data.transforms_factory import create_transform\n",
        "\n",
        "config = resolve_data_config({}, model=model)\n",
        "transform = create_transform(**config)\n",
        "print(config)\n",
        "\n",
        "accurate_prediction_counter = 0\n",
        "total_number_of_images = 0\n",
        "\n",
        "# Get imagenet class mappings\n",
        "url, filename = (\"https://raw.githubusercontent.com/pytorch/hub/master/imagenet_classes.txt\", \"imagenet_classes.txt\")\n",
        "urllib.request.urlretrieve(url, filename) \n",
        "with open(\"imagenet_classes.txt\", \"r\") as f:\n",
        "    categories = [s.strip() for s in f.readlines()]\n",
        "categories = [category.lower() for category in categories]\n",
        "picture_of = \"labrador retriever\"\n",
        "key_words = [\"labrador\"]\n",
        "softmax_accuracy_threshold = 0.0\n",
        "contains = (picture_of in categories)\n",
        "print(picture_of + \" is a category in ImageNet?: \" + str(contains))\n",
        "print(\"\\n\")\n",
        "\n",
        "for filename in os.listdir(\".\"):\n",
        "  if filename.endswith(\"jpg\"):\n",
        "    total_number_of_images += 1\n",
        "    img = Image.open(filename).convert('RGB')\n",
        "    tensor = transform(img).unsqueeze(0) # transform and add batch dimension\n",
        "    with torch.no_grad():\n",
        "      out = model(tensor)\n",
        "    probabilities = torch.nn.functional.softmax(out[0], dim=0)\n",
        "    accurate_prediction = False\n",
        "    # Print top categories per image\n",
        "    top3_prob, top3_catid = torch.topk(probabilities, 1)\n",
        "    for i in range(top3_prob.size(0)):\n",
        "      print(categories[top3_catid[i]], top3_prob[i].item())\n",
        "      category = categories[top3_catid[i]]\n",
        "      for key_word in key_words:\n",
        "        if (key_word in category) and (top3_prob[i].item() > softmax_accuracy_threshold):\n",
        "          accurate_prediction = True\n",
        "    if (accurate_prediction):\n",
        "      print(filename + \" had its actual category in the top 1 prediction with softmax > \" + str(softmax_accuracy_threshold))\n",
        "      print(\"\\n\")\n",
        "      accurate_prediction_counter += 1\n",
        "    else:\n",
        "      print(filename + \" did not have its actual category in the top 1 prediction with softmax > \" + str(softmax_accuracy_threshold))\n",
        "      print(\"\\n\")\n",
        "accuracy = (accurate_prediction_counter / total_number_of_images) * 100\n",
        "print(\"Total images: \" + str(total_number_of_images))\n",
        "print(\"DenseNet121 had a \" + str(accuracy) + \"% accuracy on images in \" + os.getcwd())\n",
        "TOTAL_IMAGES_ENTIRE += total_number_of_images\n",
        "TOTAL_CORRECT_ENTIRE += accurate_prediction_counter\n",
        "\n"
      ],
      "metadata": {
        "colab": {
          "base_uri": "https://localhost:8080/"
        },
        "id": "w5Q6oSmVBjSB",
        "outputId": "a349e372-5fe5-46bf-c12e-31dfe22e00f8"
      },
      "execution_count": null,
      "outputs": [
        {
          "output_type": "stream",
          "name": "stdout",
          "text": [
            "{'input_size': (3, 224, 224), 'interpolation': 'bicubic', 'mean': (0.485, 0.456, 0.406), 'std': (0.229, 0.224, 0.225), 'crop_pct': 0.875}\n",
            "labrador retriever is a category in ImageNet?: True\n",
            "\n",
            "\n",
            "rhodesian ridgeback 0.6451480388641357\n",
            "n02099712_0.jpg did not have its actual category in the top 1 prediction with softmax > 0.0\n",
            "\n",
            "\n",
            "labrador retriever 0.1394486427307129\n",
            "n02099712_1.jpg had its actual category in the top 1 prediction with softmax > 0.0\n",
            "\n",
            "\n",
            "kelpie 0.23777909576892853\n",
            "n02099712_2.jpg did not have its actual category in the top 1 prediction with softmax > 0.0\n",
            "\n",
            "\n",
            "curly-coated retriever 0.5047815442085266\n",
            "n02099712_3.jpg did not have its actual category in the top 1 prediction with softmax > 0.0\n",
            "\n",
            "\n",
            "irish setter 0.6908812522888184\n",
            "n02099712_4.jpg did not have its actual category in the top 1 prediction with softmax > 0.0\n",
            "\n",
            "\n",
            "golden retriever 0.6123039126396179\n",
            "n02099712_5.jpg did not have its actual category in the top 1 prediction with softmax > 0.0\n",
            "\n",
            "\n",
            "kuvasz 0.29561910033226013\n",
            "n02099712_6.jpg did not have its actual category in the top 1 prediction with softmax > 0.0\n",
            "\n",
            "\n",
            "basenji 0.15086747705936432\n",
            "n02099712_7.jpg did not have its actual category in the top 1 prediction with softmax > 0.0\n",
            "\n",
            "\n",
            "Total images: 8\n",
            "DenseNet121 had a 12.5% accuracy on images in /content/drive/.shortcut-targets-by-id/1beXLuTyfFnOo3t19p65wHXF-qaxghvjI/ENGINE: Wyze/Images/test_yt/n02099712-Labrador_retriever\n"
          ]
        }
      ]
    },
    {
      "cell_type": "markdown",
      "source": [
        "## **running inferences on all greyhound images**"
      ],
      "metadata": {
        "id": "y6C-v53rBV1E"
      }
    },
    {
      "cell_type": "code",
      "source": [
        "cd /content/drive/My Drive/UW/2021-22_Senior/Capstone/ENGINE: Wyze/Images/test_yt/n02091032-Italian_greyhound"
      ],
      "metadata": {
        "colab": {
          "base_uri": "https://localhost:8080/"
        },
        "id": "ElaWLgCNBaZM",
        "outputId": "f9e5e863-6613-48ab-d95f-3ff01b8e02df"
      },
      "execution_count": null,
      "outputs": [
        {
          "output_type": "stream",
          "name": "stdout",
          "text": [
            "/content/drive/.shortcut-targets-by-id/1beXLuTyfFnOo3t19p65wHXF-qaxghvjI/ENGINE: Wyze/Images/test_yt/n02091032-Italian_greyhound\n"
          ]
        }
      ]
    },
    {
      "cell_type": "code",
      "source": [
        "import urllib\n",
        "import matplotlib.pyplot as plt\n",
        "import matplotlib.image as mpimg\n",
        "import numpy as np\n",
        "import torch\n",
        "import os\n",
        "from PIL import Image\n",
        "from timm.data import resolve_data_config\n",
        "from timm.data.transforms_factory import create_transform\n",
        "\n",
        "config = resolve_data_config({}, model=model)\n",
        "transform = create_transform(**config)\n",
        "print(config)\n",
        "\n",
        "accurate_prediction_counter = 0\n",
        "total_number_of_images = 0\n",
        "\n",
        "# Get imagenet class mappings\n",
        "url, filename = (\"https://raw.githubusercontent.com/pytorch/hub/master/imagenet_classes.txt\", \"imagenet_classes.txt\")\n",
        "urllib.request.urlretrieve(url, filename) \n",
        "with open(\"imagenet_classes.txt\", \"r\") as f:\n",
        "    categories = [s.strip() for s in f.readlines()]\n",
        "categories = [category.lower() for category in categories]\n",
        "picture_of = \"italian greyhound\"\n",
        "key_words = [\"greyhound\"]\n",
        "softmax_accuracy_threshold = 0.0\n",
        "contains = (picture_of in categories)\n",
        "print(picture_of + \" is a category in ImageNet?: \" + str(contains))\n",
        "print(\"\\n\")\n",
        "\n",
        "for filename in os.listdir(\".\"):\n",
        "  if filename.endswith(\"jpg\"):\n",
        "    total_number_of_images += 1\n",
        "    img = Image.open(filename).convert('RGB')\n",
        "    tensor = transform(img).unsqueeze(0) # transform and add batch dimension\n",
        "    with torch.no_grad():\n",
        "      out = model(tensor)\n",
        "    probabilities = torch.nn.functional.softmax(out[0], dim=0)\n",
        "    accurate_prediction = False\n",
        "    # Print top categories per image\n",
        "    top3_prob, top3_catid = torch.topk(probabilities, 1)\n",
        "    for i in range(top3_prob.size(0)):\n",
        "      print(categories[top3_catid[i]], top3_prob[i].item())\n",
        "      category = categories[top3_catid[i]]\n",
        "      for key_word in key_words:\n",
        "        if (key_word in category) and (top3_prob[i].item() > softmax_accuracy_threshold):\n",
        "          accurate_prediction = True\n",
        "    if (accurate_prediction):\n",
        "      print(filename + \" had its actual category in the top 1 prediction with softmax > \" + str(softmax_accuracy_threshold))\n",
        "      print(\"\\n\")\n",
        "      accurate_prediction_counter += 1\n",
        "    else:\n",
        "      print(filename + \" did not have its actual category in the top 1 prediction with softmax > \" + str(softmax_accuracy_threshold))\n",
        "      print(\"\\n\")\n",
        "accuracy = (accurate_prediction_counter / total_number_of_images) * 100\n",
        "print(\"Total images: \" + str(total_number_of_images))\n",
        "print(\"DenseNet121 had a \" + str(accuracy) + \"% accuracy on images in \" + os.getcwd())\n",
        "TOTAL_IMAGES_ENTIRE += total_number_of_images\n",
        "TOTAL_CORRECT_ENTIRE += accurate_prediction_counter\n"
      ],
      "metadata": {
        "colab": {
          "base_uri": "https://localhost:8080/"
        },
        "id": "d4-nobagCLKS",
        "outputId": "adbbecd3-607b-4183-ed00-5def144aa46c"
      },
      "execution_count": null,
      "outputs": [
        {
          "output_type": "stream",
          "name": "stdout",
          "text": [
            "{'input_size': (3, 224, 224), 'interpolation': 'bicubic', 'mean': (0.485, 0.456, 0.406), 'std': (0.229, 0.224, 0.225), 'crop_pct': 0.875}\n",
            "italian greyhound is a category in ImageNet?: True\n",
            "\n",
            "\n",
            "italian greyhound 0.7243775725364685\n",
            "n02091032_0.jpg had its actual category in the top 1 prediction with softmax > 0.0\n",
            "\n",
            "\n",
            "italian greyhound 0.9341707825660706\n",
            "n02091032_1.jpg had its actual category in the top 1 prediction with softmax > 0.0\n",
            "\n",
            "\n",
            "italian greyhound 0.4715769588947296\n",
            "n02091032_2.jpg had its actual category in the top 1 prediction with softmax > 0.0\n",
            "\n",
            "\n",
            "italian greyhound 0.33394044637680054\n",
            "n02091032_3.jpg had its actual category in the top 1 prediction with softmax > 0.0\n",
            "\n",
            "\n",
            "italian greyhound 0.8573813438415527\n",
            "n02091032_4.jpg had its actual category in the top 1 prediction with softmax > 0.0\n",
            "\n",
            "\n",
            "italian greyhound 0.8476179838180542\n",
            "n02091032_5.jpg had its actual category in the top 1 prediction with softmax > 0.0\n",
            "\n",
            "\n",
            "whippet 0.4679386019706726\n",
            "n02091032_6.jpg did not have its actual category in the top 1 prediction with softmax > 0.0\n",
            "\n",
            "\n",
            "Total images: 7\n",
            "DenseNet121 had a 85.71428571428571% accuracy on images in /content/drive/.shortcut-targets-by-id/1beXLuTyfFnOo3t19p65wHXF-qaxghvjI/ENGINE: Wyze/Images/test_yt/n02091032-Italian_greyhound\n"
          ]
        }
      ]
    },
    {
      "cell_type": "markdown",
      "source": [
        "## **running inferences on all german sheperd images**"
      ],
      "metadata": {
        "id": "REG3Rs3nDRKJ"
      }
    },
    {
      "cell_type": "code",
      "source": [
        "cd /content/drive/My Drive/UW/2021-22_Senior/Capstone/ENGINE: Wyze/Images/test_yt/n02106662-German_shepherd"
      ],
      "metadata": {
        "colab": {
          "base_uri": "https://localhost:8080/"
        },
        "id": "BZ2LsKHJDXXb",
        "outputId": "f38eb2c6-5d03-4950-bb06-8fd497fa845c"
      },
      "execution_count": null,
      "outputs": [
        {
          "output_type": "stream",
          "name": "stdout",
          "text": [
            "/content/drive/.shortcut-targets-by-id/1beXLuTyfFnOo3t19p65wHXF-qaxghvjI/ENGINE: Wyze/Images/test_yt/n02106662-German_shepherd\n"
          ]
        }
      ]
    },
    {
      "cell_type": "code",
      "source": [
        "import urllib\n",
        "import matplotlib.pyplot as plt\n",
        "import matplotlib.image as mpimg\n",
        "import numpy as np\n",
        "import torch\n",
        "import os\n",
        "from PIL import Image\n",
        "from timm.data import resolve_data_config\n",
        "from timm.data.transforms_factory import create_transform\n",
        "\n",
        "config = resolve_data_config({}, model=model)\n",
        "transform = create_transform(**config)\n",
        "print(config)\n",
        "\n",
        "accurate_prediction_counter = 0\n",
        "total_number_of_images = 0\n",
        "\n",
        "# Get imagenet class mappings\n",
        "url, filename = (\"https://raw.githubusercontent.com/pytorch/hub/master/imagenet_classes.txt\", \"imagenet_classes.txt\")\n",
        "urllib.request.urlretrieve(url, filename) \n",
        "with open(\"imagenet_classes.txt\", \"r\") as f:\n",
        "    categories = [s.strip() for s in f.readlines()]\n",
        "categories = [category.lower() for category in categories]\n",
        "print(categories)\n",
        "picture_of = \"german shepherd\"\n",
        "key_words = [\"german shepherd\"]\n",
        "softmax_accuracy_threshold = 0.0\n",
        "contains = (picture_of in categories)\n",
        "print(picture_of + \" is a category in ImageNet?: \" + str(contains))\n",
        "print(\"\\n\")\n",
        "\n",
        "for filename in os.listdir(\".\"):\n",
        "  if filename.endswith(\"jpg\"):\n",
        "    total_number_of_images += 1\n",
        "    img = Image.open(filename).convert('RGB')\n",
        "    tensor = transform(img).unsqueeze(0) # transform and add batch dimension\n",
        "    with torch.no_grad():\n",
        "      out = model(tensor)\n",
        "    probabilities = torch.nn.functional.softmax(out[0], dim=0)\n",
        "    accurate_prediction = False\n",
        "    # Print top categories per image\n",
        "    top3_prob, top3_catid = torch.topk(probabilities, 1)\n",
        "    for i in range(top3_prob.size(0)):\n",
        "      print(categories[top3_catid[i]], top3_prob[i].item())\n",
        "      category = categories[top3_catid[i]]\n",
        "      for key_word in key_words:\n",
        "        if (key_word in category) and (top3_prob[i].item() > softmax_accuracy_threshold):\n",
        "          accurate_prediction = True\n",
        "    if (accurate_prediction):\n",
        "      print(filename + \" had its actual category in the top 1 prediction with softmax > \" + str(softmax_accuracy_threshold))\n",
        "      print(\"\\n\")\n",
        "      accurate_prediction_counter += 1\n",
        "    else:\n",
        "      print(filename + \" did not have its actual category in the top 1 prediction with softmax > \" + str(softmax_accuracy_threshold))\n",
        "      print(\"\\n\")\n",
        "accuracy = (accurate_prediction_counter / total_number_of_images) * 100\n",
        "print(\"Total images: \" + str(total_number_of_images))\n",
        "print(\"DenseNet121 had a \" + str(accuracy) + \"% accuracy on images in \" + os.getcwd())\n",
        "TOTAL_IMAGES_ENTIRE += total_number_of_images\n",
        "TOTAL_CORRECT_ENTIRE += accurate_prediction_counter"
      ],
      "metadata": {
        "colab": {
          "base_uri": "https://localhost:8080/"
        },
        "id": "G_39dp_ZDXcJ",
        "outputId": "eb7fd253-3517-4b73-9595-c3d734ed8840"
      },
      "execution_count": null,
      "outputs": [
        {
          "output_type": "stream",
          "name": "stdout",
          "text": [
            "{'input_size': (3, 224, 224), 'interpolation': 'bicubic', 'mean': (0.485, 0.456, 0.406), 'std': (0.229, 0.224, 0.225), 'crop_pct': 0.875}\n",
            "['tench', 'goldfish', 'great white shark', 'tiger shark', 'hammerhead', 'electric ray', 'stingray', 'cock', 'hen', 'ostrich', 'brambling', 'goldfinch', 'house finch', 'junco', 'indigo bunting', 'robin', 'bulbul', 'jay', 'magpie', 'chickadee', 'water ouzel', 'kite', 'bald eagle', 'vulture', 'great grey owl', 'european fire salamander', 'common newt', 'eft', 'spotted salamander', 'axolotl', 'bullfrog', 'tree frog', 'tailed frog', 'loggerhead', 'leatherback turtle', 'mud turtle', 'terrapin', 'box turtle', 'banded gecko', 'common iguana', 'american chameleon', 'whiptail', 'agama', 'frilled lizard', 'alligator lizard', 'gila monster', 'green lizard', 'african chameleon', 'komodo dragon', 'african crocodile', 'american alligator', 'triceratops', 'thunder snake', 'ringneck snake', 'hognose snake', 'green snake', 'king snake', 'garter snake', 'water snake', 'vine snake', 'night snake', 'boa constrictor', 'rock python', 'indian cobra', 'green mamba', 'sea snake', 'horned viper', 'diamondback', 'sidewinder', 'trilobite', 'harvestman', 'scorpion', 'black and gold garden spider', 'barn spider', 'garden spider', 'black widow', 'tarantula', 'wolf spider', 'tick', 'centipede', 'black grouse', 'ptarmigan', 'ruffed grouse', 'prairie chicken', 'peacock', 'quail', 'partridge', 'african grey', 'macaw', 'sulphur-crested cockatoo', 'lorikeet', 'coucal', 'bee eater', 'hornbill', 'hummingbird', 'jacamar', 'toucan', 'drake', 'red-breasted merganser', 'goose', 'black swan', 'tusker', 'echidna', 'platypus', 'wallaby', 'koala', 'wombat', 'jellyfish', 'sea anemone', 'brain coral', 'flatworm', 'nematode', 'conch', 'snail', 'slug', 'sea slug', 'chiton', 'chambered nautilus', 'dungeness crab', 'rock crab', 'fiddler crab', 'king crab', 'american lobster', 'spiny lobster', 'crayfish', 'hermit crab', 'isopod', 'white stork', 'black stork', 'spoonbill', 'flamingo', 'little blue heron', 'american egret', 'bittern', 'crane', 'limpkin', 'european gallinule', 'american coot', 'bustard', 'ruddy turnstone', 'red-backed sandpiper', 'redshank', 'dowitcher', 'oystercatcher', 'pelican', 'king penguin', 'albatross', 'grey whale', 'killer whale', 'dugong', 'sea lion', 'chihuahua', 'japanese spaniel', 'maltese dog', 'pekinese', 'shih-tzu', 'blenheim spaniel', 'papillon', 'toy terrier', 'rhodesian ridgeback', 'afghan hound', 'basset', 'beagle', 'bloodhound', 'bluetick', 'black-and-tan coonhound', 'walker hound', 'english foxhound', 'redbone', 'borzoi', 'irish wolfhound', 'italian greyhound', 'whippet', 'ibizan hound', 'norwegian elkhound', 'otterhound', 'saluki', 'scottish deerhound', 'weimaraner', 'staffordshire bullterrier', 'american staffordshire terrier', 'bedlington terrier', 'border terrier', 'kerry blue terrier', 'irish terrier', 'norfolk terrier', 'norwich terrier', 'yorkshire terrier', 'wire-haired fox terrier', 'lakeland terrier', 'sealyham terrier', 'airedale', 'cairn', 'australian terrier', 'dandie dinmont', 'boston bull', 'miniature schnauzer', 'giant schnauzer', 'standard schnauzer', 'scotch terrier', 'tibetan terrier', 'silky terrier', 'soft-coated wheaten terrier', 'west highland white terrier', 'lhasa', 'flat-coated retriever', 'curly-coated retriever', 'golden retriever', 'labrador retriever', 'chesapeake bay retriever', 'german short-haired pointer', 'vizsla', 'english setter', 'irish setter', 'gordon setter', 'brittany spaniel', 'clumber', 'english springer', 'welsh springer spaniel', 'cocker spaniel', 'sussex spaniel', 'irish water spaniel', 'kuvasz', 'schipperke', 'groenendael', 'malinois', 'briard', 'kelpie', 'komondor', 'old english sheepdog', 'shetland sheepdog', 'collie', 'border collie', 'bouvier des flandres', 'rottweiler', 'german shepherd', 'doberman', 'miniature pinscher', 'greater swiss mountain dog', 'bernese mountain dog', 'appenzeller', 'entlebucher', 'boxer', 'bull mastiff', 'tibetan mastiff', 'french bulldog', 'great dane', 'saint bernard', 'eskimo dog', 'malamute', 'siberian husky', 'dalmatian', 'affenpinscher', 'basenji', 'pug', 'leonberg', 'newfoundland', 'great pyrenees', 'samoyed', 'pomeranian', 'chow', 'keeshond', 'brabancon griffon', 'pembroke', 'cardigan', 'toy poodle', 'miniature poodle', 'standard poodle', 'mexican hairless', 'timber wolf', 'white wolf', 'red wolf', 'coyote', 'dingo', 'dhole', 'african hunting dog', 'hyena', 'red fox', 'kit fox', 'arctic fox', 'grey fox', 'tabby', 'tiger cat', 'persian cat', 'siamese cat', 'egyptian cat', 'cougar', 'lynx', 'leopard', 'snow leopard', 'jaguar', 'lion', 'tiger', 'cheetah', 'brown bear', 'american black bear', 'ice bear', 'sloth bear', 'mongoose', 'meerkat', 'tiger beetle', 'ladybug', 'ground beetle', 'long-horned beetle', 'leaf beetle', 'dung beetle', 'rhinoceros beetle', 'weevil', 'fly', 'bee', 'ant', 'grasshopper', 'cricket', 'walking stick', 'cockroach', 'mantis', 'cicada', 'leafhopper', 'lacewing', 'dragonfly', 'damselfly', 'admiral', 'ringlet', 'monarch', 'cabbage butterfly', 'sulphur butterfly', 'lycaenid', 'starfish', 'sea urchin', 'sea cucumber', 'wood rabbit', 'hare', 'angora', 'hamster', 'porcupine', 'fox squirrel', 'marmot', 'beaver', 'guinea pig', 'sorrel', 'zebra', 'hog', 'wild boar', 'warthog', 'hippopotamus', 'ox', 'water buffalo', 'bison', 'ram', 'bighorn', 'ibex', 'hartebeest', 'impala', 'gazelle', 'arabian camel', 'llama', 'weasel', 'mink', 'polecat', 'black-footed ferret', 'otter', 'skunk', 'badger', 'armadillo', 'three-toed sloth', 'orangutan', 'gorilla', 'chimpanzee', 'gibbon', 'siamang', 'guenon', 'patas', 'baboon', 'macaque', 'langur', 'colobus', 'proboscis monkey', 'marmoset', 'capuchin', 'howler monkey', 'titi', 'spider monkey', 'squirrel monkey', 'madagascar cat', 'indri', 'indian elephant', 'african elephant', 'lesser panda', 'giant panda', 'barracouta', 'eel', 'coho', 'rock beauty', 'anemone fish', 'sturgeon', 'gar', 'lionfish', 'puffer', 'abacus', 'abaya', 'academic gown', 'accordion', 'acoustic guitar', 'aircraft carrier', 'airliner', 'airship', 'altar', 'ambulance', 'amphibian', 'analog clock', 'apiary', 'apron', 'ashcan', 'assault rifle', 'backpack', 'bakery', 'balance beam', 'balloon', 'ballpoint', 'band aid', 'banjo', 'bannister', 'barbell', 'barber chair', 'barbershop', 'barn', 'barometer', 'barrel', 'barrow', 'baseball', 'basketball', 'bassinet', 'bassoon', 'bathing cap', 'bath towel', 'bathtub', 'beach wagon', 'beacon', 'beaker', 'bearskin', 'beer bottle', 'beer glass', 'bell cote', 'bib', 'bicycle-built-for-two', 'bikini', 'binder', 'binoculars', 'birdhouse', 'boathouse', 'bobsled', 'bolo tie', 'bonnet', 'bookcase', 'bookshop', 'bottlecap', 'bow', 'bow tie', 'brass', 'brassiere', 'breakwater', 'breastplate', 'broom', 'bucket', 'buckle', 'bulletproof vest', 'bullet train', 'butcher shop', 'cab', 'caldron', 'candle', 'cannon', 'canoe', 'can opener', 'cardigan', 'car mirror', 'carousel', \"carpenter's kit\", 'carton', 'car wheel', 'cash machine', 'cassette', 'cassette player', 'castle', 'catamaran', 'cd player', 'cello', 'cellular telephone', 'chain', 'chainlink fence', 'chain mail', 'chain saw', 'chest', 'chiffonier', 'chime', 'china cabinet', 'christmas stocking', 'church', 'cinema', 'cleaver', 'cliff dwelling', 'cloak', 'clog', 'cocktail shaker', 'coffee mug', 'coffeepot', 'coil', 'combination lock', 'computer keyboard', 'confectionery', 'container ship', 'convertible', 'corkscrew', 'cornet', 'cowboy boot', 'cowboy hat', 'cradle', 'crane', 'crash helmet', 'crate', 'crib', 'crock pot', 'croquet ball', 'crutch', 'cuirass', 'dam', 'desk', 'desktop computer', 'dial telephone', 'diaper', 'digital clock', 'digital watch', 'dining table', 'dishrag', 'dishwasher', 'disk brake', 'dock', 'dogsled', 'dome', 'doormat', 'drilling platform', 'drum', 'drumstick', 'dumbbell', 'dutch oven', 'electric fan', 'electric guitar', 'electric locomotive', 'entertainment center', 'envelope', 'espresso maker', 'face powder', 'feather boa', 'file', 'fireboat', 'fire engine', 'fire screen', 'flagpole', 'flute', 'folding chair', 'football helmet', 'forklift', 'fountain', 'fountain pen', 'four-poster', 'freight car', 'french horn', 'frying pan', 'fur coat', 'garbage truck', 'gasmask', 'gas pump', 'goblet', 'go-kart', 'golf ball', 'golfcart', 'gondola', 'gong', 'gown', 'grand piano', 'greenhouse', 'grille', 'grocery store', 'guillotine', 'hair slide', 'hair spray', 'half track', 'hammer', 'hamper', 'hand blower', 'hand-held computer', 'handkerchief', 'hard disc', 'harmonica', 'harp', 'harvester', 'hatchet', 'holster', 'home theater', 'honeycomb', 'hook', 'hoopskirt', 'horizontal bar', 'horse cart', 'hourglass', 'ipod', 'iron', \"jack-o'-lantern\", 'jean', 'jeep', 'jersey', 'jigsaw puzzle', 'jinrikisha', 'joystick', 'kimono', 'knee pad', 'knot', 'lab coat', 'ladle', 'lampshade', 'laptop', 'lawn mower', 'lens cap', 'letter opener', 'library', 'lifeboat', 'lighter', 'limousine', 'liner', 'lipstick', 'loafer', 'lotion', 'loudspeaker', 'loupe', 'lumbermill', 'magnetic compass', 'mailbag', 'mailbox', 'maillot', 'maillot', 'manhole cover', 'maraca', 'marimba', 'mask', 'matchstick', 'maypole', 'maze', 'measuring cup', 'medicine chest', 'megalith', 'microphone', 'microwave', 'military uniform', 'milk can', 'minibus', 'miniskirt', 'minivan', 'missile', 'mitten', 'mixing bowl', 'mobile home', 'model t', 'modem', 'monastery', 'monitor', 'moped', 'mortar', 'mortarboard', 'mosque', 'mosquito net', 'motor scooter', 'mountain bike', 'mountain tent', 'mouse', 'mousetrap', 'moving van', 'muzzle', 'nail', 'neck brace', 'necklace', 'nipple', 'notebook', 'obelisk', 'oboe', 'ocarina', 'odometer', 'oil filter', 'organ', 'oscilloscope', 'overskirt', 'oxcart', 'oxygen mask', 'packet', 'paddle', 'paddlewheel', 'padlock', 'paintbrush', 'pajama', 'palace', 'panpipe', 'paper towel', 'parachute', 'parallel bars', 'park bench', 'parking meter', 'passenger car', 'patio', 'pay-phone', 'pedestal', 'pencil box', 'pencil sharpener', 'perfume', 'petri dish', 'photocopier', 'pick', 'pickelhaube', 'picket fence', 'pickup', 'pier', 'piggy bank', 'pill bottle', 'pillow', 'ping-pong ball', 'pinwheel', 'pirate', 'pitcher', 'plane', 'planetarium', 'plastic bag', 'plate rack', 'plow', 'plunger', 'polaroid camera', 'pole', 'police van', 'poncho', 'pool table', 'pop bottle', 'pot', \"potter's wheel\", 'power drill', 'prayer rug', 'printer', 'prison', 'projectile', 'projector', 'puck', 'punching bag', 'purse', 'quill', 'quilt', 'racer', 'racket', 'radiator', 'radio', 'radio telescope', 'rain barrel', 'recreational vehicle', 'reel', 'reflex camera', 'refrigerator', 'remote control', 'restaurant', 'revolver', 'rifle', 'rocking chair', 'rotisserie', 'rubber eraser', 'rugby ball', 'rule', 'running shoe', 'safe', 'safety pin', 'saltshaker', 'sandal', 'sarong', 'sax', 'scabbard', 'scale', 'school bus', 'schooner', 'scoreboard', 'screen', 'screw', 'screwdriver', 'seat belt', 'sewing machine', 'shield', 'shoe shop', 'shoji', 'shopping basket', 'shopping cart', 'shovel', 'shower cap', 'shower curtain', 'ski', 'ski mask', 'sleeping bag', 'slide rule', 'sliding door', 'slot', 'snorkel', 'snowmobile', 'snowplow', 'soap dispenser', 'soccer ball', 'sock', 'solar dish', 'sombrero', 'soup bowl', 'space bar', 'space heater', 'space shuttle', 'spatula', 'speedboat', 'spider web', 'spindle', 'sports car', 'spotlight', 'stage', 'steam locomotive', 'steel arch bridge', 'steel drum', 'stethoscope', 'stole', 'stone wall', 'stopwatch', 'stove', 'strainer', 'streetcar', 'stretcher', 'studio couch', 'stupa', 'submarine', 'suit', 'sundial', 'sunglass', 'sunglasses', 'sunscreen', 'suspension bridge', 'swab', 'sweatshirt', 'swimming trunks', 'swing', 'switch', 'syringe', 'table lamp', 'tank', 'tape player', 'teapot', 'teddy', 'television', 'tennis ball', 'thatch', 'theater curtain', 'thimble', 'thresher', 'throne', 'tile roof', 'toaster', 'tobacco shop', 'toilet seat', 'torch', 'totem pole', 'tow truck', 'toyshop', 'tractor', 'trailer truck', 'tray', 'trench coat', 'tricycle', 'trimaran', 'tripod', 'triumphal arch', 'trolleybus', 'trombone', 'tub', 'turnstile', 'typewriter keyboard', 'umbrella', 'unicycle', 'upright', 'vacuum', 'vase', 'vault', 'velvet', 'vending machine', 'vestment', 'viaduct', 'violin', 'volleyball', 'waffle iron', 'wall clock', 'wallet', 'wardrobe', 'warplane', 'washbasin', 'washer', 'water bottle', 'water jug', 'water tower', 'whiskey jug', 'whistle', 'wig', 'window screen', 'window shade', 'windsor tie', 'wine bottle', 'wing', 'wok', 'wooden spoon', 'wool', 'worm fence', 'wreck', 'yawl', 'yurt', 'web site', 'comic book', 'crossword puzzle', 'street sign', 'traffic light', 'book jacket', 'menu', 'plate', 'guacamole', 'consomme', 'hot pot', 'trifle', 'ice cream', 'ice lolly', 'french loaf', 'bagel', 'pretzel', 'cheeseburger', 'hotdog', 'mashed potato', 'head cabbage', 'broccoli', 'cauliflower', 'zucchini', 'spaghetti squash', 'acorn squash', 'butternut squash', 'cucumber', 'artichoke', 'bell pepper', 'cardoon', 'mushroom', 'granny smith', 'strawberry', 'orange', 'lemon', 'fig', 'pineapple', 'banana', 'jackfruit', 'custard apple', 'pomegranate', 'hay', 'carbonara', 'chocolate sauce', 'dough', 'meat loaf', 'pizza', 'potpie', 'burrito', 'red wine', 'espresso', 'cup', 'eggnog', 'alp', 'bubble', 'cliff', 'coral reef', 'geyser', 'lakeside', 'promontory', 'sandbar', 'seashore', 'valley', 'volcano', 'ballplayer', 'groom', 'scuba diver', 'rapeseed', 'daisy', \"yellow lady's slipper\", 'corn', 'acorn', 'hip', 'buckeye', 'coral fungus', 'agaric', 'gyromitra', 'stinkhorn', 'earthstar', 'hen-of-the-woods', 'bolete', 'ear', 'toilet tissue']\n",
            "german shepherd is a category in ImageNet?: True\n",
            "\n",
            "\n",
            "german shepherd 0.19869330525398254\n",
            "n02106662_0.jpg had its actual category in the top 1 prediction with softmax > 0.0\n",
            "\n",
            "\n",
            "malinois 0.2960834503173828\n",
            "n02106662_1.jpg did not have its actual category in the top 1 prediction with softmax > 0.0\n",
            "\n",
            "\n",
            "french bulldog 0.23618429899215698\n",
            "n02106662_2.jpg did not have its actual category in the top 1 prediction with softmax > 0.0\n",
            "\n",
            "\n",
            "german shepherd 0.8792040348052979\n",
            "n02106662_3.jpg had its actual category in the top 1 prediction with softmax > 0.0\n",
            "\n",
            "\n",
            "german shepherd 0.7387975454330444\n",
            "n02106662_4.jpg had its actual category in the top 1 prediction with softmax > 0.0\n",
            "\n",
            "\n",
            "german shepherd 0.5418595671653748\n",
            "n02106662_5.jpg had its actual category in the top 1 prediction with softmax > 0.0\n",
            "\n",
            "\n",
            "german shepherd 0.9745472073554993\n",
            "n02106662_6.jpg had its actual category in the top 1 prediction with softmax > 0.0\n",
            "\n",
            "\n",
            "schipperke 0.1763726770877838\n",
            "n02106662_7.jpg did not have its actual category in the top 1 prediction with softmax > 0.0\n",
            "\n",
            "\n",
            "planetarium 0.15812969207763672\n",
            "n02106662_8.jpg did not have its actual category in the top 1 prediction with softmax > 0.0\n",
            "\n",
            "\n",
            "german shepherd 0.9545189142227173\n",
            "n02106662_9.jpg had its actual category in the top 1 prediction with softmax > 0.0\n",
            "\n",
            "\n",
            "malinois 0.3437466323375702\n",
            "n02106662_10.jpg did not have its actual category in the top 1 prediction with softmax > 0.0\n",
            "\n",
            "\n",
            "Total images: 11\n",
            "DenseNet121 had a 54.54545454545454% accuracy on images in /content/drive/.shortcut-targets-by-id/1beXLuTyfFnOo3t19p65wHXF-qaxghvjI/ENGINE: Wyze/Images/test_yt/n02106662-German_shepherd\n"
          ]
        }
      ]
    },
    {
      "cell_type": "markdown",
      "source": [
        "## **running inferences on all malamute images**"
      ],
      "metadata": {
        "id": "f1B3H3BXEt3r"
      }
    },
    {
      "cell_type": "code",
      "source": [
        "cd /content/drive/MyDrive/UW/2021-22_Senior/Capstone/ENGINE: Wyze/Images/test_yt/n02110063-malamute"
      ],
      "metadata": {
        "colab": {
          "base_uri": "https://localhost:8080/"
        },
        "id": "nZa5rCKCE1NF",
        "outputId": "e5ec9fab-e750-4158-9b3c-201b07ea6560"
      },
      "execution_count": null,
      "outputs": [
        {
          "output_type": "stream",
          "name": "stdout",
          "text": [
            "/content/drive/.shortcut-targets-by-id/1beXLuTyfFnOo3t19p65wHXF-qaxghvjI/ENGINE: Wyze/Images/test_yt/n02110063-malamute\n"
          ]
        }
      ]
    },
    {
      "cell_type": "code",
      "source": [
        "import urllib\n",
        "import matplotlib.pyplot as plt\n",
        "import matplotlib.image as mpimg\n",
        "import numpy as np\n",
        "import torch\n",
        "import os\n",
        "from PIL import Image\n",
        "from timm.data import resolve_data_config\n",
        "from timm.data.transforms_factory import create_transform\n",
        "\n",
        "config = resolve_data_config({}, model=model)\n",
        "transform = create_transform(**config)\n",
        "print(config)\n",
        "\n",
        "accurate_prediction_counter = 0\n",
        "total_number_of_images = 0\n",
        "\n",
        "# Get imagenet class mappings\n",
        "url, filename = (\"https://raw.githubusercontent.com/pytorch/hub/master/imagenet_classes.txt\", \"imagenet_classes.txt\")\n",
        "urllib.request.urlretrieve(url, filename) \n",
        "with open(\"imagenet_classes.txt\", \"r\") as f:\n",
        "    categories = [s.strip() for s in f.readlines()]\n",
        "categories = [category.lower() for category in categories]\n",
        "picture_of = \"malamute\"\n",
        "key_words = [\"malamute\"]\n",
        "softmax_accuracy_threshold = 0.0\n",
        "contains = (picture_of in categories)\n",
        "print(picture_of + \" is a category in ImageNet?: \" + str(contains))\n",
        "print(\"\\n\")\n",
        "\n",
        "for filename in os.listdir(\".\"):\n",
        "  if filename.endswith(\"jpg\"):\n",
        "    total_number_of_images += 1\n",
        "    img = Image.open(filename).convert('RGB')\n",
        "    tensor = transform(img).unsqueeze(0) # transform and add batch dimension\n",
        "    with torch.no_grad():\n",
        "      out = model(tensor)\n",
        "    probabilities = torch.nn.functional.softmax(out[0], dim=0)\n",
        "    accurate_prediction = False\n",
        "    # Print top categories per image\n",
        "    top3_prob, top3_catid = torch.topk(probabilities, 1)\n",
        "    for i in range(top3_prob.size(0)):\n",
        "      print(categories[top3_catid[i]], top3_prob[i].item())\n",
        "      category = categories[top3_catid[i]]\n",
        "      for key_word in key_words:\n",
        "        if (key_word in category) and (top3_prob[i].item() > softmax_accuracy_threshold):\n",
        "          accurate_prediction = True\n",
        "    if (accurate_prediction):\n",
        "      print(filename + \" had its actual category in the top 1 prediction with softmax > \" + str(softmax_accuracy_threshold))\n",
        "      print(\"\\n\")\n",
        "      accurate_prediction_counter += 1\n",
        "    else:\n",
        "      print(filename + \" did not have its actual category in the top 1 prediction with softmax > \" + str(softmax_accuracy_threshold))\n",
        "      print(\"\\n\")\n",
        "accuracy = (accurate_prediction_counter / total_number_of_images) * 100\n",
        "print(\"Total images: \" + str(total_number_of_images))\n",
        "print(\"DenseNet121 had a \" + str(accuracy) + \"% accuracy on images in \" + os.getcwd())\n",
        "TOTAL_IMAGES_ENTIRE += total_number_of_images\n",
        "TOTAL_CORRECT_ENTIRE += accurate_prediction_counter"
      ],
      "metadata": {
        "colab": {
          "base_uri": "https://localhost:8080/"
        },
        "id": "Xv6qVmEXE60q",
        "outputId": "ab49ea6f-64f9-4ed5-ea2d-f987ad1887c0"
      },
      "execution_count": null,
      "outputs": [
        {
          "output_type": "stream",
          "name": "stdout",
          "text": [
            "{'input_size': (3, 224, 224), 'interpolation': 'bicubic', 'mean': (0.485, 0.456, 0.406), 'std': (0.229, 0.224, 0.225), 'crop_pct': 0.875}\n",
            "malamute is a category in ImageNet?: True\n",
            "\n",
            "\n",
            "malamute 0.7702674269676208\n",
            "n02110063_0.jpg had its actual category in the top 1 prediction with softmax > 0.0\n",
            "\n",
            "\n",
            "malamute 0.5161123275756836\n",
            "n02110063_1.jpg had its actual category in the top 1 prediction with softmax > 0.0\n",
            "\n",
            "\n",
            "malamute 0.470245361328125\n",
            "n02110063_2.jpg had its actual category in the top 1 prediction with softmax > 0.0\n",
            "\n",
            "\n",
            "malamute 0.6316680908203125\n",
            "n02110063_3.jpg had its actual category in the top 1 prediction with softmax > 0.0\n",
            "\n",
            "\n",
            "collie 0.23663532733917236\n",
            "n02110063_4.jpg did not have its actual category in the top 1 prediction with softmax > 0.0\n",
            "\n",
            "\n",
            "eskimo dog 0.3001428246498108\n",
            "n02110063_5.jpg did not have its actual category in the top 1 prediction with softmax > 0.0\n",
            "\n",
            "\n",
            "siberian husky 0.3891739249229431\n",
            "n02110063_6.jpg did not have its actual category in the top 1 prediction with softmax > 0.0\n",
            "\n",
            "\n",
            "malamute 0.30794063210487366\n",
            "n02110063_7.jpg had its actual category in the top 1 prediction with softmax > 0.0\n",
            "\n",
            "\n",
            "Total images: 8\n",
            "DenseNet121 had a 62.5% accuracy on images in /content/drive/.shortcut-targets-by-id/1beXLuTyfFnOo3t19p65wHXF-qaxghvjI/ENGINE: Wyze/Images/test_yt/n02110063-malamute\n"
          ]
        }
      ]
    },
    {
      "cell_type": "markdown",
      "source": [
        "### notes"
      ],
      "metadata": {
        "id": "qShw8YmWG4ci"
      }
    },
    {
      "cell_type": "markdown",
      "source": [
        "[link text](https://imagesvc.meredithcorp.io/v3/mm/image?url=https%3A%2F%2Fstatic.onecms.io%2Fwp-content%2Fuploads%2Fsites%2F47%2F2021%2F08%2F10%2Falaskan-malamute-vs-siberian-husky-infographic.png\n",
        ")\n",
        "\n",
        "interesting results, the siberian husky is almost identical to malamute\n"
      ],
      "metadata": {
        "id": "4ZE9Bo4CFOCF"
      }
    },
    {
      "cell_type": "markdown",
      "source": [
        "## running inference on all miniature schnauzer images\n",
        "-avg throughput per 1 min is also calculated here"
      ],
      "metadata": {
        "id": "AlKG5s9vCWcZ"
      }
    },
    {
      "cell_type": "code",
      "source": [
        "cd /content/drive/My Drive/UW/2021-22_Senior/Capstone/ENGINE: Wyze/Images/test_yt/n02097047-miniature_schnauzer"
      ],
      "metadata": {
        "colab": {
          "base_uri": "https://localhost:8080/"
        },
        "id": "6e0ijLIACjcW",
        "outputId": "8b430faa-dd79-4bd7-9371-fc94cc56bc4b"
      },
      "execution_count": null,
      "outputs": [
        {
          "output_type": "stream",
          "name": "stdout",
          "text": [
            "/content/drive/.shortcut-targets-by-id/1beXLuTyfFnOo3t19p65wHXF-qaxghvjI/ENGINE: Wyze/Images/test_yt/n02097047-miniature_schnauzer\n"
          ]
        }
      ]
    },
    {
      "cell_type": "code",
      "source": [
        "import urllib\n",
        "import matplotlib.pyplot as plt\n",
        "import matplotlib.image as mpimg\n",
        "import numpy as np\n",
        "import torch\n",
        "import os\n",
        "from PIL import Image\n",
        "from timm.data import resolve_data_config\n",
        "from timm.data.transforms_factory import create_transform\n",
        "\n",
        "config = resolve_data_config({}, model=model)\n",
        "transform = create_transform(**config)\n",
        "print(config)\n",
        "\n",
        "accurate_prediction_counter = 0\n",
        "total_number_of_images = 0\n",
        "\n",
        "# Get imagenet class mappings\n",
        "url, filename = (\"https://raw.githubusercontent.com/pytorch/hub/master/imagenet_classes.txt\", \"imagenet_classes.txt\")\n",
        "urllib.request.urlretrieve(url, filename) \n",
        "with open(\"imagenet_classes.txt\", \"r\") as f:\n",
        "    categories = [s.strip() for s in f.readlines()]\n",
        "categories = [category.lower() for category in categories]\n",
        "picture_of = \"miniature schnauzer\"\n",
        "key_words = [\"miniature schnauzer\"]\n",
        "softmax_accuracy_threshold = 0.0\n",
        "contains = (picture_of in categories)\n",
        "print(picture_of + \" is a category in ImageNet?: \" + str(contains))\n",
        "print(\"\\n\")\n",
        "\n",
        "beginning_time = time.time()\n",
        "for filename in os.listdir(\".\"):\n",
        "  if filename.endswith(\"jpg\"):\n",
        "    total_number_of_images += 1\n",
        "    img = Image.open(filename).convert('RGB')\n",
        "    tensor = transform(img).unsqueeze(0) # transform and add batch dimension\n",
        "    with torch.no_grad():\n",
        "      out = model(tensor)\n",
        "    probabilities = torch.nn.functional.softmax(out[0], dim=0)\n",
        "    accurate_prediction = False\n",
        "    # Print top categories per image\n",
        "    top3_prob, top3_catid = torch.topk(probabilities, 1)\n",
        "    for i in range(top3_prob.size(0)):\n",
        "      # print(categories[top3_catid[i]], top3_prob[i].item())\n",
        "      category = categories[top3_catid[i]]\n",
        "      for key_word in key_words:\n",
        "        if (key_word in category) and (top3_prob[i].item() > softmax_accuracy_threshold):\n",
        "          accurate_prediction = True\n",
        "    if (accurate_prediction):\n",
        "      # print(filename + \" had its actual category in the top 1 prediction with softmax > \" + str(softmax_accuracy_threshold))\n",
        "      # print(\"\\n\")\n",
        "      accurate_prediction_counter += 1\n",
        "    # else:\n",
        "    #   print(filename + \" did not have its actual category in the top 1 prediction with softmax > \" + str(softmax_accuracy_threshold))\n",
        "    #   print(\"\\n\")\n",
        "ending_time = time.time()\n",
        "accuracy = (accurate_prediction_counter / total_number_of_images) * 100\n",
        "print(\"Total images: \" + str(total_number_of_images))\n",
        "print(\"DenseNet121 had a \" + str(accuracy) + \"% accuracy on images in \" + os.getcwd())\n",
        "print(str(total_number_of_images) + \" took this long: \" + str(ending_time - beginning_time))\n",
        "minute_throughput = (60 * total_number_of_images) / (ending_time - beginning_time)\n",
        "print (\"Minute throughpout: \" + str(minute_throughput))\n",
        "TOTAL_IMAGES_ENTIRE += total_number_of_images\n",
        "TOTAL_CORRECT_ENTIRE += accurate_prediction_counter"
      ],
      "metadata": {
        "colab": {
          "base_uri": "https://localhost:8080/"
        },
        "id": "SErvm3YLCrOS",
        "outputId": "44c9aa65-a609-46ca-dc4f-9ebbf5b52c19"
      },
      "execution_count": null,
      "outputs": [
        {
          "output_type": "stream",
          "name": "stdout",
          "text": [
            "{'input_size': (3, 224, 224), 'interpolation': 'bicubic', 'mean': (0.485, 0.456, 0.406), 'std': (0.229, 0.224, 0.225), 'crop_pct': 0.875}\n",
            "miniature schnauzer is a category in ImageNet?: True\n",
            "\n",
            "\n",
            "Total images: 10\n",
            "DenseNet121 had a 40.0% accuracy on images in /content/drive/.shortcut-targets-by-id/1beXLuTyfFnOo3t19p65wHXF-qaxghvjI/ENGINE: Wyze/Images/test_yt/n02097047-miniature_schnauzer\n",
            "10 took this long: 8.806845664978027\n",
            "Minute throughpout: 68.12881965060494\n"
          ]
        }
      ]
    },
    {
      "cell_type": "markdown",
      "source": [
        "## running inference on all Doberman images"
      ],
      "metadata": {
        "id": "tG-0LuctFZQu"
      }
    },
    {
      "cell_type": "code",
      "source": [
        "cd /content/drive/My Drive/UW/2021-22_Senior/Capstone/ENGINE: Wyze/Images/test_yt/n02107142-Doberman"
      ],
      "metadata": {
        "colab": {
          "base_uri": "https://localhost:8080/"
        },
        "id": "8kQ3NrVJQlAd",
        "outputId": "47d00dfa-0781-433f-fd92-454bc8fbfcb8"
      },
      "execution_count": null,
      "outputs": [
        {
          "output_type": "stream",
          "name": "stdout",
          "text": [
            "/content/drive/.shortcut-targets-by-id/1beXLuTyfFnOo3t19p65wHXF-qaxghvjI/ENGINE: Wyze/Images/test_yt/n02107142-Doberman\n"
          ]
        }
      ]
    },
    {
      "cell_type": "code",
      "source": [
        "import urllib\n",
        "import matplotlib.pyplot as plt\n",
        "import matplotlib.image as mpimg\n",
        "import numpy as np\n",
        "import torch\n",
        "import os\n",
        "from PIL import Image\n",
        "from timm.data import resolve_data_config\n",
        "from timm.data.transforms_factory import create_transform\n",
        "\n",
        "config = resolve_data_config({}, model=model)\n",
        "transform = create_transform(**config)\n",
        "print(config)\n",
        "\n",
        "accurate_prediction_counter = 0\n",
        "total_number_of_images = 0\n",
        "\n",
        "# Get imagenet class mappings\n",
        "url, filename = (\"https://raw.githubusercontent.com/pytorch/hub/master/imagenet_classes.txt\", \"imagenet_classes.txt\")\n",
        "urllib.request.urlretrieve(url, filename) \n",
        "with open(\"imagenet_classes.txt\", \"r\") as f:\n",
        "    categories = [s.strip() for s in f.readlines()]\n",
        "categories = [category.lower() for category in categories]\n",
        "picture_of = \"doberman\"\n",
        "key_words = [\"doberman\"]\n",
        "softmax_accuracy_threshold = 0.0\n",
        "contains = (picture_of in categories)\n",
        "print(picture_of + \" is a category in ImageNet?: \" + str(contains))\n",
        "print(\"\\n\")\n",
        "\n",
        "for filename in os.listdir(\".\"):\n",
        "  if filename.endswith(\"jpg\"):\n",
        "    total_number_of_images += 1\n",
        "    img = Image.open(filename).convert('RGB')\n",
        "    tensor = transform(img).unsqueeze(0) # transform and add batch dimension\n",
        "    with torch.no_grad():\n",
        "      out = model(tensor)\n",
        "    probabilities = torch.nn.functional.softmax(out[0], dim=0)\n",
        "    accurate_prediction = False\n",
        "    # Print top categories per image\n",
        "    top3_prob, top3_catid = torch.topk(probabilities, 1)\n",
        "    for i in range(top3_prob.size(0)):\n",
        "      print(categories[top3_catid[i]], top3_prob[i].item())\n",
        "      category = categories[top3_catid[i]]\n",
        "      for key_word in key_words:\n",
        "        if (key_word in category) and (top3_prob[i].item() > softmax_accuracy_threshold):\n",
        "          accurate_prediction = True\n",
        "    if (accurate_prediction):\n",
        "      print(filename + \" had its actual category in the top 1 prediction with softmax > \" + str(softmax_accuracy_threshold))\n",
        "      print(\"\\n\")\n",
        "      accurate_prediction_counter += 1\n",
        "    else:\n",
        "      print(filename + \" did not have its actual category in the top 1 prediction with softmax > \" + str(softmax_accuracy_threshold))\n",
        "      print(\"\\n\")\n",
        "accuracy = (accurate_prediction_counter / total_number_of_images) * 100\n",
        "print(\"Total images: \" + str(total_number_of_images))\n",
        "print(\"DenseNet121 had a \" + str(accuracy) + \"% accuracy on images in \" + os.getcwd())\n",
        "TOTAL_IMAGES_ENTIRE += total_number_of_images\n",
        "TOTAL_CORRECT_ENTIRE += accurate_prediction_counter"
      ],
      "metadata": {
        "colab": {
          "base_uri": "https://localhost:8080/"
        },
        "id": "jHMHwsN5Qluz",
        "outputId": "b4386d0a-b9ba-4b55-b089-ffba6a02bff6"
      },
      "execution_count": null,
      "outputs": [
        {
          "output_type": "stream",
          "name": "stdout",
          "text": [
            "{'input_size': (3, 224, 224), 'interpolation': 'bicubic', 'mean': (0.485, 0.456, 0.406), 'std': (0.229, 0.224, 0.225), 'crop_pct': 0.875}\n",
            "doberman is a category in ImageNet?: True\n",
            "\n",
            "\n",
            "doberman 0.4646333158016205\n",
            "n02107142_0.jpg had its actual category in the top 1 prediction with softmax > 0.0\n",
            "\n",
            "\n",
            "vizsla 0.2016117125749588\n",
            "n02107142_1.jpg did not have its actual category in the top 1 prediction with softmax > 0.0\n",
            "\n",
            "\n",
            "doberman 0.7285133004188538\n",
            "n02107142_2.jpg had its actual category in the top 1 prediction with softmax > 0.0\n",
            "\n",
            "\n",
            "doberman 0.4035308361053467\n",
            "n02107142_3.jpg had its actual category in the top 1 prediction with softmax > 0.0\n",
            "\n",
            "\n",
            "doberman 0.5111252069473267\n",
            "n02107142_4.jpg had its actual category in the top 1 prediction with softmax > 0.0\n",
            "\n",
            "\n",
            "vizsla 0.2996804714202881\n",
            "n02107142_5.jpg did not have its actual category in the top 1 prediction with softmax > 0.0\n",
            "\n",
            "\n",
            "doberman 0.4963994026184082\n",
            "n02107142_6.jpg had its actual category in the top 1 prediction with softmax > 0.0\n",
            "\n",
            "\n",
            "doberman 0.6996175050735474\n",
            "n02107142_7.jpg had its actual category in the top 1 prediction with softmax > 0.0\n",
            "\n",
            "\n",
            "doberman 0.7862406969070435\n",
            "n02107142_8.jpg had its actual category in the top 1 prediction with softmax > 0.0\n",
            "\n",
            "\n",
            "doberman 0.3772315979003906\n",
            "n02107142_9.jpg had its actual category in the top 1 prediction with softmax > 0.0\n",
            "\n",
            "\n",
            "Total images: 10\n",
            "DenseNet121 had a 80.0% accuracy on images in /content/drive/.shortcut-targets-by-id/1beXLuTyfFnOo3t19p65wHXF-qaxghvjI/ENGINE: Wyze/Images/test_yt/n02107142-Doberman\n"
          ]
        }
      ]
    },
    {
      "cell_type": "markdown",
      "source": [
        "## running inference on all american staffordshire terrier images"
      ],
      "metadata": {
        "id": "I5lSUhrOJXOL"
      }
    },
    {
      "cell_type": "code",
      "source": [
        "cd /content/drive/My Drive/UW/2021-22_Senior/Capstone/ENGINE: Wyze/Images/test_yt/n02093428-American_Staffordshire_terrier"
      ],
      "metadata": {
        "colab": {
          "base_uri": "https://localhost:8080/"
        },
        "id": "fJhKjFt8RK2k",
        "outputId": "36e290f9-9563-42ad-cfbd-ef5ac2abe974"
      },
      "execution_count": null,
      "outputs": [
        {
          "output_type": "stream",
          "name": "stdout",
          "text": [
            "/content/drive/.shortcut-targets-by-id/1beXLuTyfFnOo3t19p65wHXF-qaxghvjI/ENGINE: Wyze/Images/test_yt/n02093428-American_Staffordshire_terrier\n"
          ]
        }
      ]
    },
    {
      "cell_type": "code",
      "source": [
        "import urllib\n",
        "import matplotlib.pyplot as plt\n",
        "import matplotlib.image as mpimg\n",
        "import numpy as np\n",
        "import torch\n",
        "import os\n",
        "from PIL import Image\n",
        "from timm.data import resolve_data_config\n",
        "from timm.data.transforms_factory import create_transform\n",
        "\n",
        "config = resolve_data_config({}, model=model)\n",
        "transform = create_transform(**config)\n",
        "print(config)\n",
        "\n",
        "accurate_prediction_counter = 0\n",
        "total_number_of_images = 0\n",
        "\n",
        "# Get imagenet class mappings\n",
        "url, filename = (\"https://raw.githubusercontent.com/pytorch/hub/master/imagenet_classes.txt\", \"imagenet_classes.txt\")\n",
        "urllib.request.urlretrieve(url, filename) \n",
        "with open(\"imagenet_classes.txt\", \"r\") as f:\n",
        "    categories = [s.strip() for s in f.readlines()]\n",
        "categories = [category.lower() for category in categories]\n",
        "picture_of = \"terrier\"\n",
        "key_words = [\"terrier\"]\n",
        "softmax_accuracy_threshold = 0.0\n",
        "contains = (picture_of in categories)\n",
        "print(picture_of + \" is a category in ImageNet?: \" + str(contains))\n",
        "print(\"\\n\")\n",
        "\n",
        "for filename in os.listdir(\".\"):\n",
        "  if filename.endswith(\"jpg\"):\n",
        "    total_number_of_images += 1\n",
        "    img = Image.open(filename).convert('RGB')\n",
        "    tensor = transform(img).unsqueeze(0) # transform and add batch dimension\n",
        "    with torch.no_grad():\n",
        "      out = model(tensor)\n",
        "    probabilities = torch.nn.functional.softmax(out[0], dim=0)\n",
        "    accurate_prediction = False\n",
        "    # Print top categories per image\n",
        "    top3_prob, top3_catid = torch.topk(probabilities, 1)\n",
        "    for i in range(top3_prob.size(0)):\n",
        "      print(categories[top3_catid[i]], top3_prob[i].item())\n",
        "      category = categories[top3_catid[i]]\n",
        "      for key_word in key_words:\n",
        "        if (key_word in category) and (top3_prob[i].item() > softmax_accuracy_threshold):\n",
        "          accurate_prediction = True\n",
        "    if (accurate_prediction):\n",
        "      print(filename + \" had its actual category in the top 1 prediction with softmax > \" + str(softmax_accuracy_threshold))\n",
        "      print(\"\\n\")\n",
        "      accurate_prediction_counter += 1\n",
        "    else:\n",
        "      print(filename + \" did not have its actual category in the top 1 prediction with softmax > \" + str(softmax_accuracy_threshold))\n",
        "      print(\"\\n\")\n",
        "accuracy = (accurate_prediction_counter / total_number_of_images) * 100\n",
        "print(\"Total images: \" + str(total_number_of_images))\n",
        "print(\"DenseNet121 had a \" + str(accuracy) + \"% accuracy on images in \" + os.getcwd())\n",
        "TOTAL_IMAGES_ENTIRE += total_number_of_images\n",
        "TOTAL_CORRECT_ENTIRE += accurate_prediction_counter"
      ],
      "metadata": {
        "colab": {
          "base_uri": "https://localhost:8080/"
        },
        "id": "FXiNg4uMRNCP",
        "outputId": "f8dc88bc-c5ae-41c3-b11c-00284a8cc6bb"
      },
      "execution_count": null,
      "outputs": [
        {
          "output_type": "stream",
          "name": "stdout",
          "text": [
            "{'input_size': (3, 224, 224), 'interpolation': 'bicubic', 'mean': (0.485, 0.456, 0.406), 'std': (0.229, 0.224, 0.225), 'crop_pct': 0.875}\n",
            "terrier is a category in ImageNet?: False\n",
            "\n",
            "\n",
            "television 0.5299442410469055\n",
            "n02093428_0.jpg did not have its actual category in the top 1 prediction with softmax > 0.0\n",
            "\n",
            "\n",
            "staffordshire bullterrier 0.5132147073745728\n",
            "n02093428_1.jpg had its actual category in the top 1 prediction with softmax > 0.0\n",
            "\n",
            "\n",
            "american staffordshire terrier 0.7713707089424133\n",
            "n02093428_2.jpg had its actual category in the top 1 prediction with softmax > 0.0\n",
            "\n",
            "\n",
            "american staffordshire terrier 0.8838157057762146\n",
            "n02093428_3.jpg had its actual category in the top 1 prediction with softmax > 0.0\n",
            "\n",
            "\n",
            "Total images: 4\n",
            "DenseNet121 had a 75.0% accuracy on images in /content/drive/.shortcut-targets-by-id/1beXLuTyfFnOo3t19p65wHXF-qaxghvjI/ENGINE: Wyze/Images/test_yt/n02093428-American_Staffordshire_terrier\n"
          ]
        }
      ]
    },
    {
      "cell_type": "markdown",
      "source": [
        "## running inference on all standard poodle images"
      ],
      "metadata": {
        "id": "gnZb_c8ie_6e"
      }
    },
    {
      "cell_type": "code",
      "source": [
        "cd /content/drive/My Drive/UW/2021-22_Senior/Capstone/ENGINE: Wyze/Images/test_yt/n02113799-standard_poodle"
      ],
      "metadata": {
        "colab": {
          "base_uri": "https://localhost:8080/"
        },
        "id": "2o52BvXhfK31",
        "outputId": "a697a94d-6cd2-4e50-a720-c58bab3a0410"
      },
      "execution_count": null,
      "outputs": [
        {
          "output_type": "stream",
          "name": "stdout",
          "text": [
            "/content/drive/.shortcut-targets-by-id/1beXLuTyfFnOo3t19p65wHXF-qaxghvjI/ENGINE: Wyze/Images/test_yt/n02113799-standard_poodle\n"
          ]
        }
      ]
    },
    {
      "cell_type": "code",
      "source": [
        "import urllib\n",
        "import matplotlib.pyplot as plt\n",
        "import matplotlib.image as mpimg\n",
        "import numpy as np\n",
        "import torch\n",
        "import os\n",
        "from PIL import Image\n",
        "from timm.data import resolve_data_config\n",
        "from timm.data.transforms_factory import create_transform\n",
        "\n",
        "config = resolve_data_config({}, model=model)\n",
        "transform = create_transform(**config)\n",
        "print(config)\n",
        "\n",
        "accurate_prediction_counter = 0\n",
        "total_number_of_images = 0\n",
        "\n",
        "# Get imagenet class mappings\n",
        "url, filename = (\"https://raw.githubusercontent.com/pytorch/hub/master/imagenet_classes.txt\", \"imagenet_classes.txt\")\n",
        "urllib.request.urlretrieve(url, filename) \n",
        "with open(\"imagenet_classes.txt\", \"r\") as f:\n",
        "    categories = [s.strip() for s in f.readlines()]\n",
        "categories = [category.lower() for category in categories]\n",
        "picture_of = \"standard poodle\"\n",
        "key_words = [\"poodle\"]\n",
        "softmax_accuracy_threshold = 0.0\n",
        "contains = (picture_of in categories)\n",
        "print(picture_of + \" is a category in ImageNet?: \" + str(contains))\n",
        "print(\"\\n\")\n",
        "\n",
        "for filename in os.listdir(\".\"):\n",
        "  if filename.endswith(\"jpg\"):\n",
        "    total_number_of_images += 1\n",
        "    img = Image.open(filename).convert('RGB')\n",
        "    tensor = transform(img).unsqueeze(0) # transform and add batch dimension\n",
        "    with torch.no_grad():\n",
        "      out = model(tensor)\n",
        "    probabilities = torch.nn.functional.softmax(out[0], dim=0)\n",
        "    accurate_prediction = False\n",
        "    # Print top categories per image\n",
        "    top3_prob, top3_catid = torch.topk(probabilities, 1)\n",
        "    for i in range(top3_prob.size(0)):\n",
        "      print(categories[top3_catid[i]], top3_prob[i].item())\n",
        "      category = categories[top3_catid[i]]\n",
        "      for key_word in key_words:\n",
        "        if (key_word in category) and (top3_prob[i].item() > softmax_accuracy_threshold):\n",
        "          accurate_prediction = True\n",
        "    if (accurate_prediction):\n",
        "      print(filename + \" had its actual category in the top 1 prediction with softmax > \" + str(softmax_accuracy_threshold))\n",
        "      print(\"\\n\")\n",
        "      accurate_prediction_counter += 1\n",
        "    else:\n",
        "      print(filename + \" did not have its actual category in the top 1 prediction with softmax > \" + str(softmax_accuracy_threshold))\n",
        "      print(\"\\n\")\n",
        "accuracy = (accurate_prediction_counter / total_number_of_images) * 100\n",
        "print(\"Total images: \" + str(total_number_of_images))\n",
        "print(\"DenseNet121 had a \" + str(accuracy) + \"% accuracy on images in \" + os.getcwd())\n",
        "TOTAL_IMAGES_ENTIRE += total_number_of_images\n",
        "TOTAL_CORRECT_ENTIRE += accurate_prediction_counter"
      ],
      "metadata": {
        "colab": {
          "base_uri": "https://localhost:8080/"
        },
        "id": "l2a-f1EgfIQy",
        "outputId": "3e3d4aae-1553-4de6-8f66-22fbdba60b11"
      },
      "execution_count": null,
      "outputs": [
        {
          "output_type": "stream",
          "name": "stdout",
          "text": [
            "{'input_size': (3, 224, 224), 'interpolation': 'bicubic', 'mean': (0.485, 0.456, 0.406), 'std': (0.229, 0.224, 0.225), 'crop_pct': 0.875}\n",
            "standard poodle is a category in ImageNet?: True\n",
            "\n",
            "\n",
            "standard poodle 0.28236648440361023\n",
            "n02113799_0.jpg had its actual category in the top 1 prediction with softmax > 0.0\n",
            "\n",
            "\n",
            "irish water spaniel 0.18276581168174744\n",
            "n02113799_1.jpg did not have its actual category in the top 1 prediction with softmax > 0.0\n",
            "\n",
            "\n",
            "toy poodle 0.523697555065155\n",
            "n02113799_2.jpg had its actual category in the top 1 prediction with softmax > 0.0\n",
            "\n",
            "\n",
            "bedlington terrier 0.5896265506744385\n",
            "n02113799_3.jpg did not have its actual category in the top 1 prediction with softmax > 0.0\n",
            "\n",
            "\n",
            "irish water spaniel 0.3536335527896881\n",
            "n02113799_4.jpg did not have its actual category in the top 1 prediction with softmax > 0.0\n",
            "\n",
            "\n",
            "standard poodle 0.20019978284835815\n",
            "n02113799_5.jpg had its actual category in the top 1 prediction with softmax > 0.0\n",
            "\n",
            "\n",
            "standard poodle 0.4977075457572937\n",
            "n02113799_6.jpg had its actual category in the top 1 prediction with softmax > 0.0\n",
            "\n",
            "\n",
            "standard poodle 0.504859447479248\n",
            "n02113799_7.jpg had its actual category in the top 1 prediction with softmax > 0.0\n",
            "\n",
            "\n",
            "standard poodle 0.29837989807128906\n",
            "n02113799_8.jpg had its actual category in the top 1 prediction with softmax > 0.0\n",
            "\n",
            "\n",
            "killer whale 0.03183471038937569\n",
            "n02113799_9.jpg did not have its actual category in the top 1 prediction with softmax > 0.0\n",
            "\n",
            "\n",
            "Total images: 10\n",
            "DenseNet121 had a 60.0% accuracy on images in /content/drive/.shortcut-targets-by-id/1beXLuTyfFnOo3t19p65wHXF-qaxghvjI/ENGINE: Wyze/Images/test_yt/n02113799-standard_poodle\n"
          ]
        }
      ]
    },
    {
      "cell_type": "code",
      "source": [
        "print(\"accuracy is \" + str(TOTAL_CORRECT_ENTIRE/TOTAL_IMAGES_ENTIRE))\n",
        "print(\"latency is: \" + str(average_time))\n",
        "print(\"throughput per 60s is \" + str(minute_throughput))"
      ],
      "metadata": {
        "colab": {
          "base_uri": "https://localhost:8080/"
        },
        "id": "rvPDJ7E1di-F",
        "outputId": "24d02535-afdf-4ac6-e33d-d944ed593809"
      },
      "execution_count": null,
      "outputs": [
        {
          "output_type": "stream",
          "name": "stdout",
          "text": [
            "accuracy is 0.6022727272727273\n",
            "latency is: 0.8853189468383789\n",
            "throughput per 60s is 68.12881965060494\n"
          ]
        }
      ]
    }
  ]
}