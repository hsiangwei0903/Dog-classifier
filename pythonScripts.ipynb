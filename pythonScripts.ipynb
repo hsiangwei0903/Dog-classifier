{
  "nbformat": 4,
  "nbformat_minor": 0,
  "metadata": {
    "colab": {
      "name": "vidToImages",
      "provenance": [],
      "collapsed_sections": []
    },
    "kernelspec": {
      "name": "python3",
      "display_name": "Python 3"
    },
    "language_info": {
      "name": "python"
    }
  },
  "cells": [
    {
      "cell_type": "markdown",
      "source": [
        "# Python Scripts"
      ],
      "metadata": {
        "id": "v0l8zuQc_jyM"
      }
    },
    {
      "cell_type": "markdown",
      "source": [
        "## Video-to-Images Script"
      ],
      "metadata": {
        "id": "P1gJqSqf-RFX"
      }
    },
    {
      "cell_type": "code",
      "execution_count": null,
      "metadata": {
        "id": "--9ojiNZrr_z"
      },
      "outputs": [],
      "source": [
        "# Import modules needed\n",
        "import cv2\n",
        "import os"
      ]
    },
    {
      "cell_type": "code",
      "source": [
        "# Converts the video into still frames.\n",
        "# Inputs:\n",
        "#   -vid_path: the path to the video\n",
        "#   -pic_path: the path of where to save the images\n",
        "#   -pic_filename: the filename to save the images as (dog breed in this case)\n",
        "#   -pic_frame: the starting frame for the curr video\n",
        "\n",
        "def vid2images(vid_path, pic_path, pic_filename, pic_frame):\n",
        "  # Read the video from path\n",
        "  vid = cv2.VideoCapture(vid_path)\n",
        "\n",
        "  try:\n",
        "    # Create a folder to store the images\n",
        "    if not os.path.exists(pic_path):\n",
        "      os.makedirs(pic_path)\n",
        "  \n",
        "  # Catch any error\n",
        "  except OSError:\n",
        "    print('Error: Creating a directory')\n",
        "\n",
        "  # Frame\n",
        "  curr_frame = 0\n",
        "  # to do's create another variable for naming frame\n",
        "\n",
        "  # Go through video to take stills\n",
        "  while(True):\n",
        "      ret, frame = vid.read()\n",
        "\n",
        "      if ret:\n",
        "        # Takes frame every 1 sec\n",
        "        vid.set(cv2.CAP_PROP_POS_MSEC,(curr_frame*1000))\n",
        "        # /content/drive/MyDrive/ENGINE: Wyze/Images/Miniature Schnauzer\n",
        "        #print(pic_path.lstrip('/content')\n",
        "        file_name = './' + pic_path.lstrip('/content') + '/' + pic_filename + str(pic_frame + curr_frame) + '.jpg'\n",
        "\n",
        "        print('Creating...' + file_name)\n",
        "\n",
        "        cv2.imwrite(file_name, frame)\n",
        "        curr_frame += 1\n",
        "      else:\n",
        "        break\n",
        "  \n",
        "  vid.release()\n",
        "  cv2.destroyAllWindows()\n",
        "  return (pic_frame + curr_frame)"
      ],
      "metadata": {
        "id": "wdzdZW3bs_kE"
      },
      "execution_count": null,
      "outputs": []
    },
    {
      "cell_type": "markdown",
      "source": [
        "### Example Usage"
      ],
      "metadata": {
        "id": "lez6ydtE-o4K"
      }
    },
    {
      "cell_type": "code",
      "source": [
        "# \"main\"\n",
        "vid_path = '/content/drive/MyDrive/ENGINE: Wyze/Trinh Nguyen/videos/bosenVideos/bosen'\n",
        "pic_path = '/content/drive/MyDrive/ENGINE: Wyze/Images/Miniature Schnauzer'\n",
        "pic_frame = 0\n",
        "\n",
        "vid2images(vid_path, pic_path, 'n02097047', pic_frame)"
      ],
      "metadata": {
        "id": "SJP5bE87wsaV"
      },
      "execution_count": null,
      "outputs": []
    },
    {
      "cell_type": "markdown",
      "source": [
        "## File Renaming Script"
      ],
      "metadata": {
        "id": "FvmreHB-_s11"
      }
    },
    {
      "cell_type": "code",
      "source": [
        "import os\n",
        "import numpy as np\n",
        "\n",
        "def rename(folder, new_name):\n",
        "  # Set data to the folder of the files that want to rename\n",
        "  data = folder\n",
        "\n",
        "  # list out all the content in a given directory in a np array\n",
        "  ldseg=np.array(os.listdir(data))\n",
        "\n",
        "  i = 0\n",
        "  for filename in ldseg:\n",
        "    dst = new_name + str(i) + '.jpg'\n",
        "    src = data + filename\n",
        "    dst = data + dst\n",
        "    os.rename(src, dst)\n",
        "    i += 1"
      ],
      "metadata": {
        "id": "qssWEsjV5G5n"
      },
      "execution_count": null,
      "outputs": []
    },
    {
      "cell_type": "markdown",
      "source": [
        "### Example Usage"
      ],
      "metadata": {
        "id": "BE2Yx0XAAM_n"
      }
    },
    {
      "cell_type": "code",
      "source": [
        "rename('/content/drive/MyDrive/ENGINE: Wyze/Images/test_yt/n02113799-standard_poodle/', 'n02113799_')"
      ],
      "metadata": {
        "id": "VQcdptdg5paA"
      },
      "execution_count": null,
      "outputs": []
    },
    {
      "cell_type": "markdown",
      "source": [
        "## Google Image Scraper\n",
        "\n",
        "Chrome driver is required."
      ],
      "metadata": {
        "id": "BbAdADhGAYGq"
      }
    },
    {
      "cell_type": "code",
      "source": [
        "pip install google_images_download"
      ],
      "metadata": {
        "id": "vHkeK2BkloFO"
      },
      "execution_count": null,
      "outputs": []
    },
    {
      "cell_type": "code",
      "source": [
        "from google_images_download import google_images_download\n",
        "  \n",
        "# creating object\n",
        "response = google_images_download.googleimagesdownload() \n",
        "\n",
        "search_queries = ['chihuahua']\n",
        "def downloadimages(query):\n",
        "    # keywords is the search query\n",
        "    # format is the image file format\n",
        "    # limit is the number of images to be downloaded\n",
        "    # print urs is to print the image file url\n",
        "    # size is the image size which can\n",
        "    # be specified manually (\"large, medium, icon\")\n",
        "    # aspect ratio denotes the height width ratio\n",
        "    # of images to download. (\"tall, square, wide, panoramic\")\n",
        "    arguments = {\"keywords\": query,\n",
        "                 \"format\": \"jpg\",\n",
        "                 \"limit\": 5,\n",
        "                 \"print_urls\":True,\n",
        "                 \"size\": \"medium\",\n",
        "                 \"aspect_ratio\":\"square\",\n",
        "                 \"chromedriver\":\"/usr/lib/chromium-browser/chromedriver\"}\n",
        "    try:\n",
        "        response.download(arguments)\n",
        "      \n",
        "    # Handling File NotFound Error    \n",
        "    except FileNotFoundError: \n",
        "        arguments = {\"keywords\": query,\n",
        "                     \"format\": \"jpg\",\n",
        "                     \"limit\":5,\n",
        "                     \"print_urls\":True, \n",
        "                     \"size\": \"medium\"}\n",
        "                       \n",
        "        # Providing arguments for the searched query\n",
        "        try:\n",
        "            # Downloading the photos based\n",
        "            # on the given arguments\n",
        "            response.download(arguments) \n",
        "        except:\n",
        "            pass\n",
        "  \n",
        "# Driver Code\n",
        "for query in search_queries:\n",
        "    downloadimages(query) \n",
        "    print() "
      ],
      "metadata": {
        "id": "fcbNm4T4kPom"
      },
      "execution_count": null,
      "outputs": []
    }
  ]
}